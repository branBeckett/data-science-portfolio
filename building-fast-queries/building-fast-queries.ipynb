{
 "cells": [
  {
   "cell_type": "markdown",
   "metadata": {},
   "source": [
    "# Building Fast Queries on a CSV\n",
    "\n",
    "In this project, we'll imagine that we own an e-commerce store that sells laptops. The goal of our project will be to create a class that represents our inventory, and the methods in our class will implement queries to answer business questions about our inventory. This project will focus on time and space complexity of algorithms, preprocessing data to speed up algorithms, efficiently sorting data and searching that data, and using efficient algorithms. \n",
    "\n",
    "## The Dataset\n",
    "\n",
    "We'll work with a CSV file that comes from the [Laptop Prices](https://www.kaggle.com/ionaskel/laptop-prices) dataset on Kaggle. In our `laptops.csv` file, the column IDs have been changed, and the prices have been converted to integers. Let's start by reading in our data, separating the header from the rows, and doing some initial exploration of the dataset."
   ]
  },
  {
   "cell_type": "code",
   "execution_count": 1,
   "metadata": {},
   "outputs": [
    {
     "name": "stdout",
     "output_type": "stream",
     "text": [
      "['Id', 'Company', 'Product', 'TypeName', 'Inches', 'ScreenResolution', 'Cpu', 'Ram', 'Memory', 'Gpu', 'OpSys', 'Weight', 'Price']\n",
      "['6571244', 'Apple', 'MacBook Pro', 'Ultrabook', '13.3', 'IPS Panel Retina Display 2560x1600', 'Intel Core i5 2.3GHz', '8GB', '128GB SSD', 'Intel Iris Plus Graphics 640', 'macOS', '1.37kg', '1339']\n",
      "['7287764', 'Apple', 'Macbook Air', 'Ultrabook', '13.3', '1440x900', 'Intel Core i5 1.8GHz', '8GB', '128GB Flash Storage', 'Intel HD Graphics 6000', 'macOS', '1.34kg', '898']\n",
      "['3362737', 'HP', '250 G6', 'Notebook', '15.6', 'Full HD 1920x1080', 'Intel Core i5 7200U 2.5GHz', '8GB', '256GB SSD', 'Intel HD Graphics 620', 'No OS', '1.86kg', '575']\n",
      "['9722156', 'Apple', 'MacBook Pro', 'Ultrabook', '15.4', 'IPS Panel Retina Display 2880x1800', 'Intel Core i7 2.7GHz', '16GB', '512GB SSD', 'AMD Radeon Pro 455', 'macOS', '1.83kg', '2537']\n",
      "['8550527', 'Apple', 'MacBook Pro', 'Ultrabook', '13.3', 'IPS Panel Retina Display 2560x1600', 'Intel Core i5 3.1GHz', '8GB', '256GB SSD', 'Intel Iris Plus Graphics 650', 'macOS', '1.37kg', '1803']\n"
     ]
    }
   ],
   "source": [
    "import csv\n",
    "\n",
    "with open('laptops.csv') as file:\n",
    "    reader = csv.reader(file)\n",
    "    data = list(reader)\n",
    "    header = data[0]\n",
    "    rows = data[1:]\n",
    "    \n",
    "print(header)\n",
    "for i in range(5):\n",
    "    print(rows[i])"
   ]
  },
  {
   "cell_type": "markdown",
   "metadata": {},
   "source": [
    "## Inventory Class\n",
    "\n",
    "Next, we'll start constructing our inventory class, and read our inventory into self.header and self.rows by taking the name of the CSV file as an argument."
   ]
  },
  {
   "cell_type": "code",
   "execution_count": 2,
   "metadata": {},
   "outputs": [],
   "source": [
    "class Inventory():\n",
    "    \n",
    "    def __init__(self, csv_filename):\n",
    "        with open(csv_filename) as f:\n",
    "            reader = csv.reader(f)\n",
    "            rows = list(reader)\n",
    "        self.header = rows[0]\n",
    "        self.rows = rows[1:]\n",
    "        for row in self.rows:         # Convert price to int\n",
    "            row[-1] = int(row[-1])"
   ]
  },
  {
   "cell_type": "code",
   "execution_count": 3,
   "metadata": {},
   "outputs": [
    {
     "name": "stdout",
     "output_type": "stream",
     "text": [
      "['Id', 'Company', 'Product', 'TypeName', 'Inches', 'ScreenResolution', 'Cpu', 'Ram', 'Memory', 'Gpu', 'OpSys', 'Weight', 'Price']\n",
      "1303\n"
     ]
    }
   ],
   "source": [
    "# Testing our new class\n",
    "inventory = Inventory('laptops.csv')\n",
    "print(inventory.header)\n",
    "print(len(inventory.rows))"
   ]
  },
  {
   "cell_type": "markdown",
   "metadata": {},
   "source": [
    "## Finding a Laptop From the ID\n",
    "\n",
    "Throughout this project, we will be making various improvements to our `Inventory()` class, so we'll just copy the latest version of the class into a new cell and make improvements to it there. This way we can more easily keep track of the changes made.\n",
    "\n",
    "The next method we'll create will be a search function that will take the laptop ID as an argument and return the entire row for that laptop. This way we can identify the laptop that corresponds to a customer's purchase slip."
   ]
  },
  {
   "cell_type": "code",
   "execution_count": 4,
   "metadata": {},
   "outputs": [],
   "source": [
    "class Inventory():\n",
    "    \n",
    "    def __init__(self, csv_filename):\n",
    "        with open(csv_filename) as f:\n",
    "            reader = csv.reader(f)\n",
    "            rows = list(reader)\n",
    "        self.header = rows[0]\n",
    "        self.rows = rows[1:]\n",
    "        for row in self.rows: \n",
    "            row[-1] = int(row[-1])\n",
    "            \n",
    "    def get_laptop_from_id(self, laptop_id):\n",
    "        for row in self.rows:\n",
    "            if row[0] == laptop_id:\n",
    "                return row\n",
    "        return None"
   ]
  },
  {
   "cell_type": "code",
   "execution_count": 5,
   "metadata": {},
   "outputs": [
    {
     "name": "stdout",
     "output_type": "stream",
     "text": [
      "['3362737', 'HP', '250 G6', 'Notebook', '15.6', 'Full HD 1920x1080', 'Intel Core i5 7200U 2.5GHz', '8GB', '256GB SSD', 'Intel HD Graphics 620', 'No OS', '1.86kg', 575]\n",
      "None\n"
     ]
    }
   ],
   "source": [
    "# Testing our new method\n",
    "inventory = Inventory('laptops.csv')\n",
    "print(inventory.get_laptop_from_id('3362737')) # Found in the dataset\n",
    "print(inventory.get_laptop_from_id('3362736')) # Not actually in the dataset"
   ]
  },
  {
   "cell_type": "markdown",
   "metadata": {},
   "source": [
    "## Improving ID Lookups\n",
    "\n",
    "The algorithm above looks at every single row to find the one we're looking for, so it has a time complexity of *O(Number of Rows)*. We can improve this if we efficiently preprocess the data by using a dictionary instead of a set."
   ]
  },
  {
   "cell_type": "code",
   "execution_count": 6,
   "metadata": {},
   "outputs": [],
   "source": [
    "class Inventory():\n",
    "    \n",
    "    def __init__(self, csv_filename):\n",
    "        with open(csv_filename) as f:\n",
    "            reader = csv.reader(f)\n",
    "            rows = list(reader)\n",
    "        self.header = rows[0]\n",
    "        self.rows = rows[1:]\n",
    "        for row in self.rows: \n",
    "            row[-1] = int(row[-1])\n",
    "        # Create the dictionary in the __init__() method\n",
    "        self.id_to_row = {} \n",
    "        for row in self.rows:\n",
    "            self.id_to_row[row[0]] = row # Use row ID as the key and entire row as the value\n",
    "            \n",
    "    def get_laptop_from_id(self, laptop_id):\n",
    "        for row in self.rows:\n",
    "            if row[0] == laptop_id:\n",
    "                return row\n",
    "        return None\n",
    "    \n",
    "    # Implement a new get_laptop_from_id() method so we can compare the two\n",
    "    def get_laptop_from_id_fast(self, laptop_id): \n",
    "        if laptop_id in self.id_to_row:\n",
    "            return self.id_to_row[laptop_id]\n",
    "        return None"
   ]
  },
  {
   "cell_type": "code",
   "execution_count": 7,
   "metadata": {},
   "outputs": [
    {
     "name": "stdout",
     "output_type": "stream",
     "text": [
      "['3362737', 'HP', '250 G6', 'Notebook', '15.6', 'Full HD 1920x1080', 'Intel Core i5 7200U 2.5GHz', '8GB', '256GB SSD', 'Intel HD Graphics 620', 'No OS', '1.86kg', 575]\n",
      "None\n"
     ]
    }
   ],
   "source": [
    "# Testing our newest method\n",
    "inventory = Inventory('laptops.csv')\n",
    "print(inventory.get_laptop_from_id_fast('3362737')) # Found in the dataset\n",
    "print(inventory.get_laptop_from_id_fast('3362736')) # Not actually in the dataset"
   ]
  },
  {
   "cell_type": "markdown",
   "metadata": {},
   "source": [
    "## Comparing Performance\n",
    "\n",
    "The `get_laptop_from_id_fast()` implementation has a time complexity of *0(1)* by creating the dictionary and using more memory to store it.\n",
    "\n",
    "Let's compare the performance of these two different methods. We'll do so by generating random IDs and then use both methods to lookup the same IDs and use the time module to measure the execution times."
   ]
  },
  {
   "cell_type": "code",
   "execution_count": 8,
   "metadata": {},
   "outputs": [
    {
     "name": "stdout",
     "output_type": "stream",
     "text": [
      "0.6422724723815918\n",
      "0.0023818016052246094\n"
     ]
    }
   ],
   "source": [
    "import time\n",
    "import random\n",
    "\n",
    "random_ids = [str(random.randint(1000000, 9999999)) for _ in range(10000)]\n",
    "\n",
    "inventory = Inventory('laptops.csv')\n",
    "\n",
    "elapsed_time_no_dict = 0\n",
    "for id_number in random_ids:\n",
    "    start = time.time()\n",
    "    inventory.get_laptop_from_id(id_number)\n",
    "    end = time.time()\n",
    "    elapsed_time_no_dict += end - start\n",
    "    \n",
    "elapsed_time_dict = 0\n",
    "for id_number in random_ids:\n",
    "    start = time.time()\n",
    "    inventory.get_laptop_from_id_fast(id_number)\n",
    "    end = time.time()\n",
    "    elapsed_time_dict += end - start\n",
    "    \n",
    "print(elapsed_time_no_dict)\n",
    "print(elapsed_time_dict)"
   ]
  },
  {
   "cell_type": "markdown",
   "metadata": {},
   "source": [
    "There's a significant difference in performance for our two methods. The dictionary method was more than 300 times faster. In our dataset, we only have about 1,300 rows, so it doesn't make such a big difference here. However, if we have millions of rows, or perform lots of queries, this difference adds up and could become a bottleneck to our application.\n",
    "\n",
    "## Two Laptop Promotion\n",
    "\n",
    "Let's imagine our store were to offer promotional single use only gift cards with the ability to purchase a maximum of two laptops. We wouldn't want our customers to feel cheated if they were unable to use the full balance received on two laptops in a single transaction, so we want to make sure that there is at least one way to spend it in full.\n",
    "\n",
    "To do this, we'll write a function called `check_promotion_dollars()` that checks if it's possible to spend any given amount by purchasing two laptops."
   ]
  },
  {
   "cell_type": "code",
   "execution_count": 9,
   "metadata": {},
   "outputs": [],
   "source": [
    "class Inventory():\n",
    "    \n",
    "    def __init__(self, csv_filename):\n",
    "        with open(csv_filename) as f:\n",
    "            reader = csv.reader(f)\n",
    "            rows = list(reader)\n",
    "        self.header = rows[0]\n",
    "        self.rows = rows[1:]\n",
    "        for row in self.rows: \n",
    "            row[-1] = int(row[-1])\n",
    "        self.id_to_row = {} \n",
    "        for row in self.rows:\n",
    "            self.id_to_row[row[0]] = row\n",
    "            \n",
    "    def get_laptop_from_id(self, laptop_id):\n",
    "        for row in self.rows:\n",
    "            if row[0] == laptop_id:\n",
    "                return row\n",
    "        return None\n",
    "    \n",
    "    def get_laptop_from_id_fast(self, laptop_id): \n",
    "        if laptop_id in self.id_to_row:\n",
    "            return self.id_to_row[laptop_id]\n",
    "        return None\n",
    "    \n",
    "    def check_promotion_dollars(self, dollars):\n",
    "        for row in self.rows:     # Check if there's one laptop that matches the giftcard exactly\n",
    "            if row[-1] == dollars: \n",
    "                return True\n",
    "        for row1 in self.rows:    # Iterates over all pairs of rows to check if combined price matches the giftcard\n",
    "            for row2 in self.rows:\n",
    "                if row1[-1] + row2[-1] == dollars:\n",
    "                    return True\n",
    "        return False"
   ]
  },
  {
   "cell_type": "code",
   "execution_count": 10,
   "metadata": {},
   "outputs": [
    {
     "name": "stdout",
     "output_type": "stream",
     "text": [
      "True\n",
      "False\n"
     ]
    }
   ],
   "source": [
    "# Testing the new method\n",
    "inventory = Inventory('laptops.csv')\n",
    "print(inventory.check_promotion_dollars(1000))\n",
    "print(inventory.check_promotion_dollars(442))"
   ]
  },
  {
   "cell_type": "markdown",
   "metadata": {},
   "source": [
    "## Optimizing Two Laptop Promotion\n",
    "\n",
    "Just like in our first method, we can preprocess the data to make the query run faster. We can store all laptop prices in a set when we initialize the inventory and then check if there is a laptop with a given price."
   ]
  },
  {
   "cell_type": "code",
   "execution_count": 11,
   "metadata": {},
   "outputs": [],
   "source": [
    "class Inventory():\n",
    "    \n",
    "    def __init__(self, csv_filename):\n",
    "        with open(csv_filename) as f:\n",
    "            reader = csv.reader(f)\n",
    "            rows = list(reader)\n",
    "        self.header = rows[0]\n",
    "        self.rows = rows[1:]\n",
    "        for row in self.rows: \n",
    "            row[-1] = int(row[-1])\n",
    "        self.id_to_row = {} \n",
    "        for row in self.rows:\n",
    "            self.id_to_row[row[0]] = row\n",
    "        self.prices = set()        # Assign empty set\n",
    "        for row in self.rows:      # Add the price in each row to the set\n",
    "            self.prices.add(row[-1])\n",
    "            \n",
    "    def get_laptop_from_id(self, laptop_id):\n",
    "        for row in self.rows:\n",
    "            if row[0] == laptop_id:\n",
    "                return row\n",
    "        return None\n",
    "    \n",
    "    def get_laptop_from_id_fast(self, laptop_id): \n",
    "        if laptop_id in self.id_to_row:\n",
    "            return self.id_to_row[laptop_id]\n",
    "        return None\n",
    "    \n",
    "    def check_promotion_dollars(self, dollars):\n",
    "        for row in self.rows:\n",
    "            if row[-1] == dollars: \n",
    "                return True\n",
    "        for row1 in self.rows:\n",
    "            for row2 in self.rows:\n",
    "                if row1[-1] + row2[-1] == dollars:\n",
    "                    return True\n",
    "        return False\n",
    "    \n",
    "    def check_promotion_dollars_fast(self, dollars):\n",
    "        if dollars in self.prices:\n",
    "            return True\n",
    "        for price in self.prices:\n",
    "            if dollars - price in self.prices:\n",
    "                return True\n",
    "        return False"
   ]
  },
  {
   "cell_type": "code",
   "execution_count": 12,
   "metadata": {},
   "outputs": [
    {
     "name": "stdout",
     "output_type": "stream",
     "text": [
      "True\n",
      "False\n"
     ]
    }
   ],
   "source": [
    "# Testing the faster method\n",
    "inventory = Inventory('laptops.csv')\n",
    "print(inventory.check_promotion_dollars_fast(1000))\n",
    "print(inventory.check_promotion_dollars_fast(442))"
   ]
  },
  {
   "cell_type": "markdown",
   "metadata": {},
   "source": [
    "## Comparing Promotion Method Performance\n",
    "\n",
    "Let's check the difference in performance between these two variations that we just created."
   ]
  },
  {
   "cell_type": "code",
   "execution_count": 13,
   "metadata": {},
   "outputs": [
    {
     "name": "stdout",
     "output_type": "stream",
     "text": [
      "0.6730313301086426\n",
      "0.00030040740966796875\n"
     ]
    }
   ],
   "source": [
    "random_prices = [random.randint(100, 5000) for _ in range(100)]\n",
    "\n",
    "inventory = Inventory('laptops.csv')\n",
    "\n",
    "elapsed_time_no_set = 0\n",
    "for price in random_prices:\n",
    "    start = time.time()\n",
    "    inventory.check_promotion_dollars(price)\n",
    "    end = time.time()\n",
    "    elapsed_time_no_set += end - start\n",
    "\n",
    "elapsed_time_set = 0\n",
    "for price in random_prices:\n",
    "    start = time.time()\n",
    "    inventory.check_promotion_dollars_fast(price)\n",
    "    end = time.time()\n",
    "    elapsed_time_set += end - start\n",
    "    \n",
    "print(elapsed_time_no_set)\n",
    "print(elapsed_time_set)"
   ]
  },
  {
   "cell_type": "markdown",
   "metadata": {},
   "source": [
    "There's another significant improvement in performance using our faster method, and it should be able to scale larger and still work really quickly.\n",
    "\n",
    "## Finding Laptops Within a Budget\n",
    "\n",
    "Next, we're going to extend our class and add a function to be able to help a customer find all the laptops that fall within their budget. We'll write a method that takes a budget of *D* dollars and finds all laptops whose price is at most *D*."
   ]
  },
  {
   "cell_type": "code",
   "execution_count": 14,
   "metadata": {},
   "outputs": [],
   "source": [
    "# In order to sort by price we'll need to tell the sorted() function to use the last row with the following key\n",
    "def row_price(row):\n",
    "    return row[-1]\n",
    "\n",
    "class Inventory():\n",
    "    \n",
    "    def __init__(self, csv_filename):\n",
    "        with open(csv_filename) as f:\n",
    "            reader = csv.reader(f)\n",
    "            rows = list(reader)\n",
    "        self.header = rows[0]\n",
    "        self.rows = rows[1:]\n",
    "        for row in self.rows: \n",
    "            row[-1] = int(row[-1])\n",
    "        self.id_to_row = {} \n",
    "        for row in self.rows:\n",
    "            self.id_to_row[row[0]] = row\n",
    "        self.prices = set()        \n",
    "        for row in self.rows:      \n",
    "            self.prices.add(row[-1])\n",
    "        self.rows_by_price = sorted(self.rows, key=row_price)    # Sort rows by price\n",
    "            \n",
    "    def get_laptop_from_id(self, laptop_id):\n",
    "        for row in self.rows:\n",
    "            if row[0] == laptop_id:\n",
    "                return row\n",
    "        return None\n",
    "    \n",
    "    def get_laptop_from_id_fast(self, laptop_id): \n",
    "        if laptop_id in self.id_to_row:\n",
    "            return self.id_to_row[laptop_id]\n",
    "        return None\n",
    "    \n",
    "    def check_promotion_dollars(self, dollars):\n",
    "        for row in self.rows:\n",
    "            if row[-1] == dollars: \n",
    "                return True\n",
    "        for row1 in self.rows:\n",
    "            for row2 in self.rows:\n",
    "                if row1[-1] + row2[-1] == dollars:\n",
    "                    return True\n",
    "        return False\n",
    "    \n",
    "    def check_promotion_dollars_fast(self, dollars):\n",
    "        if dollars in self.prices:\n",
    "            return True\n",
    "        for price in self.prices:\n",
    "            if dollars - price in self.prices:\n",
    "                return True\n",
    "        return False\n",
    "    \n",
    "    # Binary search algorithm that finds if a laptop with a given price exists\n",
    "    def find_laptop_with_price(self, target_price):\n",
    "        range_start = 0\n",
    "        range_end = len(self.rows_by_price) - 1\n",
    "        while range_start < range_end:\n",
    "            range_middle = (range_end + range_start) // 2\n",
    "            value = self.rows_by_price[range_middle][-1]\n",
    "            if value == target_price:\n",
    "                return range_middle\n",
    "            elif value < target_price:\n",
    "                range_start = range_middle + 1\n",
    "            else:\n",
    "                range_end = range_middle - 1\n",
    "        if self.rows_by_price[range_start][-1] != target_price:\n",
    "            return -1\n",
    "        return range_start\n",
    "    \n",
    "    def find_first_laptop_more_expensive(self, target_price):\n",
    "        range_start = 0\n",
    "        range_end = len(self.rows_by_price) - 1\n",
    "        while range_start < range_end:\n",
    "            range_middle = (range_end + range_start) // 2\n",
    "            price = self.rows_by_price[range_middle][-1]\n",
    "            if price > target_price:\n",
    "                range_end = range_middle\n",
    "            else:\n",
    "                range_start = range_middle + 1\n",
    "        if self.rows_by_price[range_start][-1] <= target_price:\n",
    "            return -1\n",
    "        return range_start"
   ]
  },
  {
   "cell_type": "code",
   "execution_count": 15,
   "metadata": {},
   "outputs": [
    {
     "name": "stdout",
     "output_type": "stream",
     "text": [
      "683\n",
      "-1\n"
     ]
    }
   ],
   "source": [
    "# Testing our new method\n",
    "inventory = Inventory('laptops.csv')\n",
    "print(inventory.find_first_laptop_more_expensive(1000))  # Does exist in the dataset\n",
    "print(inventory.find_first_laptop_more_expensive(10000)) # Does not exist in the dataset"
   ]
  },
  {
   "cell_type": "markdown",
   "metadata": {},
   "source": [
    "## Conclusion & Next Steps\n",
    "\n",
    "In this project, we implemented a class to represent an e-commerce laptop store, and used it to efficiently answer business questions with preprocessed data.\n",
    "\n",
    "Some steps we could take if we would like to continue this project further are:\n",
    "* Write a query to find all laptops whose price is within a given range.\n",
    "* Write a query to find the cheapest laptop with given specifications that a customer could request like RAM and hard drive capacity.\n",
    "\n",
    "The idea for this project comes from the [DATAQUEST](https://app.dataquest.io/) **Algorithm Complexity** course."
   ]
  }
 ],
 "metadata": {
  "kernelspec": {
   "display_name": "Python 3",
   "language": "python",
   "name": "python3"
  },
  "language_info": {
   "codemirror_mode": {
    "name": "ipython",
    "version": 3
   },
   "file_extension": ".py",
   "mimetype": "text/x-python",
   "name": "python",
   "nbconvert_exporter": "python",
   "pygments_lexer": "ipython3",
   "version": "3.7.9"
  }
 },
 "nbformat": 4,
 "nbformat_minor": 4
}

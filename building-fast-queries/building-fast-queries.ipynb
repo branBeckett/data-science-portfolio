{
 "cells": [
  {
   "cell_type": "markdown",
   "metadata": {},
   "source": [
    "# Building Fast Queries on a CSV\n",
    "\n",
    "Data set comes from [Kaggle](https://www.kaggle.com/ionaskel/laptop-prices).\n",
    "\n",
    "In this project we'll create a class to represent our inventory. The methods in our class will implement queries that will help us answer questions about our inventory like:\n",
    "\n",
    "* Given a laptop id, what is the corresponding data?\n",
    "* Given an amount of money, what are two laptops whose total price is that amount?\n",
    "* What laptops fall within a given budget?\n",
    "\n",
    "We'll also preprocess our data to make running these queries faster.\n",
    "\n",
    "### First, Exploring the Data\n",
    "\n",
    "Import the csv module.\n",
    "Read the laptops.csv file. The encoding is UTF-8, so you don't need to worry about it.\n",
    "Assign the first row to a variable named header.\n",
    "Assign the remaining rows to a variable named rows.\n",
    "Print the value of header.\n",
    "Print the first five rows in rows."
   ]
  },
  {
   "cell_type": "code",
   "execution_count": 1,
   "metadata": {},
   "outputs": [],
   "source": [
    "import csv\n",
    "\n",
    "with open('laptops.csv') as file:\n",
    "    reader = csv.reader(file)\n",
    "    data = list(reader)\n",
    "    header = data[0]\n",
    "    rows = data[1:]\n",
    "    \n",
    "print(header)\n",
    "for i in range(5):\n",
    "    print(rows[i])"
   ]
  },
  {
   "cell_type": "markdown",
   "metadata": {},
   "source": [
    "## Implementing an Inventory Class"
   ]
  },
  {
   "cell_type": "code",
   "execution_count": 2,
   "metadata": {},
   "outputs": [],
   "source": [
    "class Inventory():\n",
    "    \n",
    "    def __init__(self, csv_filename):\n",
    "        with open(csv_filename) as f:\n",
    "            reader = csv.reader(f)\n",
    "            rows = list(reader)\n",
    "        self.header = rows[0]\n",
    "        self.rows = rows[1:]"
   ]
  },
  {
   "cell_type": "code",
   "execution_count": null,
   "metadata": {},
   "outputs": [],
   "source": []
  }
 ],
 "metadata": {
  "kernelspec": {
   "display_name": "Python 3",
   "language": "python",
   "name": "python3"
  },
  "language_info": {
   "codemirror_mode": {
    "name": "ipython",
    "version": 3
   },
   "file_extension": ".py",
   "mimetype": "text/x-python",
   "name": "python",
   "nbconvert_exporter": "python",
   "pygments_lexer": "ipython3",
   "version": "3.7.6"
  }
 },
 "nbformat": 4,
 "nbformat_minor": 4
}

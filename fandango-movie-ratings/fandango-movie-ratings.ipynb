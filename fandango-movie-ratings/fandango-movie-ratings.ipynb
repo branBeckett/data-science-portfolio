{
 "cells": [
  {
   "cell_type": "markdown",
   "metadata": {},
   "source": [
    "# Investigating Fandango Movie Ratings\n",
    "\n",
    "Back in October 2015, a data journalist from [FiveThirtyEight](https://fivethirtyeight.com) named Walt Hickey published [this analysis](https://fivethirtyeight.com/features/fandango-movies-ratings/) that suggests movie ratings on [Fandango](https://www.fandango.com) were dishonest and rated higher than they should be. He was able to find that the actual ratings in Fandango's HTML were nearly always displayed to the user rounded up to the closest half-star and sometimes rounded up a full star.\n",
    "\n",
    "After Hickey's analysis was published, Fandango claimed that the biased rounding was caused by a bug in their system, but we can no longer tell for sure since the actual rating value no longer shows up in the page's HTML.\n",
    "\n",
    "In this project, we'll analyze some more recent movie ratings to see if we can determine whether or not Fandango has changed their rating system. We can do this by analysing Walt Hickey's original data set on GitHub [here](https://github.com/fivethirtyeight/data/tree/master/fandango), and comparing it to movie ratings data from movies released in 2016 and 2017 [here](https://github.com/mircealex/Movie_ratings_2016_17).\n",
    "\n",
    "### Taking a First Look at the Data\n",
    "\n",
    "\n",
    "We'll begin by reading in the data sets and looking at their structure."
   ]
  },
  {
   "cell_type": "code",
   "execution_count": 7,
   "metadata": {},
   "outputs": [
    {
     "data": {
      "text/html": [
       "<div>\n",
       "<style scoped>\n",
       "    .dataframe tbody tr th:only-of-type {\n",
       "        vertical-align: middle;\n",
       "    }\n",
       "\n",
       "    .dataframe tbody tr th {\n",
       "        vertical-align: top;\n",
       "    }\n",
       "\n",
       "    .dataframe thead th {\n",
       "        text-align: right;\n",
       "    }\n",
       "</style>\n",
       "<table border=\"1\" class=\"dataframe\">\n",
       "  <thead>\n",
       "    <tr style=\"text-align: right;\">\n",
       "      <th></th>\n",
       "      <th>FILM</th>\n",
       "      <th>RottenTomatoes</th>\n",
       "      <th>RottenTomatoes_User</th>\n",
       "      <th>Metacritic</th>\n",
       "      <th>Metacritic_User</th>\n",
       "      <th>IMDB</th>\n",
       "      <th>Fandango_Stars</th>\n",
       "      <th>Fandango_Ratingvalue</th>\n",
       "      <th>RT_norm</th>\n",
       "      <th>RT_user_norm</th>\n",
       "      <th>Metacritic_norm</th>\n",
       "      <th>Metacritic_user_nom</th>\n",
       "      <th>IMDB_norm</th>\n",
       "      <th>RT_norm_round</th>\n",
       "      <th>RT_user_norm_round</th>\n",
       "      <th>Metacritic_norm_round</th>\n",
       "      <th>Metacritic_user_norm_round</th>\n",
       "      <th>IMDB_norm_round</th>\n",
       "      <th>Metacritic_user_vote_count</th>\n",
       "      <th>IMDB_user_vote_count</th>\n",
       "      <th>Fandango_votes</th>\n",
       "      <th>Fandango_Difference</th>\n",
       "    </tr>\n",
       "  </thead>\n",
       "  <tbody>\n",
       "    <tr>\n",
       "      <th>0</th>\n",
       "      <td>Avengers: Age of Ultron (2015)</td>\n",
       "      <td>74</td>\n",
       "      <td>86</td>\n",
       "      <td>66</td>\n",
       "      <td>7.1</td>\n",
       "      <td>7.8</td>\n",
       "      <td>5.0</td>\n",
       "      <td>4.5</td>\n",
       "      <td>3.70</td>\n",
       "      <td>4.3</td>\n",
       "      <td>3.30</td>\n",
       "      <td>3.55</td>\n",
       "      <td>3.90</td>\n",
       "      <td>3.5</td>\n",
       "      <td>4.5</td>\n",
       "      <td>3.5</td>\n",
       "      <td>3.5</td>\n",
       "      <td>4.0</td>\n",
       "      <td>1330</td>\n",
       "      <td>271107</td>\n",
       "      <td>14846</td>\n",
       "      <td>0.5</td>\n",
       "    </tr>\n",
       "    <tr>\n",
       "      <th>1</th>\n",
       "      <td>Cinderella (2015)</td>\n",
       "      <td>85</td>\n",
       "      <td>80</td>\n",
       "      <td>67</td>\n",
       "      <td>7.5</td>\n",
       "      <td>7.1</td>\n",
       "      <td>5.0</td>\n",
       "      <td>4.5</td>\n",
       "      <td>4.25</td>\n",
       "      <td>4.0</td>\n",
       "      <td>3.35</td>\n",
       "      <td>3.75</td>\n",
       "      <td>3.55</td>\n",
       "      <td>4.5</td>\n",
       "      <td>4.0</td>\n",
       "      <td>3.5</td>\n",
       "      <td>4.0</td>\n",
       "      <td>3.5</td>\n",
       "      <td>249</td>\n",
       "      <td>65709</td>\n",
       "      <td>12640</td>\n",
       "      <td>0.5</td>\n",
       "    </tr>\n",
       "    <tr>\n",
       "      <th>2</th>\n",
       "      <td>Ant-Man (2015)</td>\n",
       "      <td>80</td>\n",
       "      <td>90</td>\n",
       "      <td>64</td>\n",
       "      <td>8.1</td>\n",
       "      <td>7.8</td>\n",
       "      <td>5.0</td>\n",
       "      <td>4.5</td>\n",
       "      <td>4.00</td>\n",
       "      <td>4.5</td>\n",
       "      <td>3.20</td>\n",
       "      <td>4.05</td>\n",
       "      <td>3.90</td>\n",
       "      <td>4.0</td>\n",
       "      <td>4.5</td>\n",
       "      <td>3.0</td>\n",
       "      <td>4.0</td>\n",
       "      <td>4.0</td>\n",
       "      <td>627</td>\n",
       "      <td>103660</td>\n",
       "      <td>12055</td>\n",
       "      <td>0.5</td>\n",
       "    </tr>\n",
       "  </tbody>\n",
       "</table>\n",
       "</div>"
      ],
      "text/plain": [
       "                             FILM  RottenTomatoes  RottenTomatoes_User  \\\n",
       "0  Avengers: Age of Ultron (2015)              74                   86   \n",
       "1               Cinderella (2015)              85                   80   \n",
       "2                  Ant-Man (2015)              80                   90   \n",
       "\n",
       "   Metacritic  Metacritic_User  IMDB  Fandango_Stars  Fandango_Ratingvalue  \\\n",
       "0          66              7.1   7.8             5.0                   4.5   \n",
       "1          67              7.5   7.1             5.0                   4.5   \n",
       "2          64              8.1   7.8             5.0                   4.5   \n",
       "\n",
       "   RT_norm  RT_user_norm  Metacritic_norm  Metacritic_user_nom  IMDB_norm  \\\n",
       "0     3.70           4.3             3.30                 3.55       3.90   \n",
       "1     4.25           4.0             3.35                 3.75       3.55   \n",
       "2     4.00           4.5             3.20                 4.05       3.90   \n",
       "\n",
       "   RT_norm_round  RT_user_norm_round  Metacritic_norm_round  \\\n",
       "0            3.5                 4.5                    3.5   \n",
       "1            4.5                 4.0                    3.5   \n",
       "2            4.0                 4.5                    3.0   \n",
       "\n",
       "   Metacritic_user_norm_round  IMDB_norm_round  Metacritic_user_vote_count  \\\n",
       "0                         3.5              4.0                        1330   \n",
       "1                         4.0              3.5                         249   \n",
       "2                         4.0              4.0                         627   \n",
       "\n",
       "   IMDB_user_vote_count  Fandango_votes  Fandango_Difference  \n",
       "0                271107           14846                  0.5  \n",
       "1                 65709           12640                  0.5  \n",
       "2                103660           12055                  0.5  "
      ]
     },
     "execution_count": 7,
     "metadata": {},
     "output_type": "execute_result"
    }
   ],
   "source": [
    "import pandas as pd\n",
    "\n",
    "pd.options.display.max_columns = 100 # To be able to view all columns within this notebook\n",
    "\n",
    "before = pd.read_csv('fandango_score_comparison.csv')\n",
    "after = pd.read_csv('movie_ratings_16_17.csv')\n",
    "\n",
    "before.head(3)"
   ]
  },
  {
   "cell_type": "code",
   "execution_count": 9,
   "metadata": {},
   "outputs": [
    {
     "data": {
      "text/html": [
       "<div>\n",
       "<style scoped>\n",
       "    .dataframe tbody tr th:only-of-type {\n",
       "        vertical-align: middle;\n",
       "    }\n",
       "\n",
       "    .dataframe tbody tr th {\n",
       "        vertical-align: top;\n",
       "    }\n",
       "\n",
       "    .dataframe thead th {\n",
       "        text-align: right;\n",
       "    }\n",
       "</style>\n",
       "<table border=\"1\" class=\"dataframe\">\n",
       "  <thead>\n",
       "    <tr style=\"text-align: right;\">\n",
       "      <th></th>\n",
       "      <th>movie</th>\n",
       "      <th>year</th>\n",
       "      <th>metascore</th>\n",
       "      <th>imdb</th>\n",
       "      <th>tmeter</th>\n",
       "      <th>audience</th>\n",
       "      <th>fandango</th>\n",
       "      <th>n_metascore</th>\n",
       "      <th>n_imdb</th>\n",
       "      <th>n_tmeter</th>\n",
       "      <th>n_audience</th>\n",
       "      <th>nr_metascore</th>\n",
       "      <th>nr_imdb</th>\n",
       "      <th>nr_tmeter</th>\n",
       "      <th>nr_audience</th>\n",
       "    </tr>\n",
       "  </thead>\n",
       "  <tbody>\n",
       "    <tr>\n",
       "      <th>0</th>\n",
       "      <td>10 Cloverfield Lane</td>\n",
       "      <td>2016</td>\n",
       "      <td>76</td>\n",
       "      <td>7.2</td>\n",
       "      <td>90</td>\n",
       "      <td>79</td>\n",
       "      <td>3.5</td>\n",
       "      <td>3.80</td>\n",
       "      <td>3.60</td>\n",
       "      <td>4.5</td>\n",
       "      <td>3.95</td>\n",
       "      <td>4.0</td>\n",
       "      <td>3.5</td>\n",
       "      <td>4.5</td>\n",
       "      <td>4.0</td>\n",
       "    </tr>\n",
       "    <tr>\n",
       "      <th>1</th>\n",
       "      <td>13 Hours</td>\n",
       "      <td>2016</td>\n",
       "      <td>48</td>\n",
       "      <td>7.3</td>\n",
       "      <td>50</td>\n",
       "      <td>83</td>\n",
       "      <td>4.5</td>\n",
       "      <td>2.40</td>\n",
       "      <td>3.65</td>\n",
       "      <td>2.5</td>\n",
       "      <td>4.15</td>\n",
       "      <td>2.5</td>\n",
       "      <td>3.5</td>\n",
       "      <td>2.5</td>\n",
       "      <td>4.0</td>\n",
       "    </tr>\n",
       "    <tr>\n",
       "      <th>2</th>\n",
       "      <td>A Cure for Wellness</td>\n",
       "      <td>2016</td>\n",
       "      <td>47</td>\n",
       "      <td>6.6</td>\n",
       "      <td>40</td>\n",
       "      <td>47</td>\n",
       "      <td>3.0</td>\n",
       "      <td>2.35</td>\n",
       "      <td>3.30</td>\n",
       "      <td>2.0</td>\n",
       "      <td>2.35</td>\n",
       "      <td>2.5</td>\n",
       "      <td>3.5</td>\n",
       "      <td>2.0</td>\n",
       "      <td>2.5</td>\n",
       "    </tr>\n",
       "  </tbody>\n",
       "</table>\n",
       "</div>"
      ],
      "text/plain": [
       "                 movie  year  metascore  imdb  tmeter  audience  fandango  \\\n",
       "0  10 Cloverfield Lane  2016         76   7.2      90        79       3.5   \n",
       "1             13 Hours  2016         48   7.3      50        83       4.5   \n",
       "2  A Cure for Wellness  2016         47   6.6      40        47       3.0   \n",
       "\n",
       "   n_metascore  n_imdb  n_tmeter  n_audience  nr_metascore  nr_imdb  \\\n",
       "0         3.80    3.60       4.5        3.95           4.0      3.5   \n",
       "1         2.40    3.65       2.5        4.15           2.5      3.5   \n",
       "2         2.35    3.30       2.0        2.35           2.5      3.5   \n",
       "\n",
       "   nr_tmeter  nr_audience  \n",
       "0        4.5          4.0  \n",
       "1        2.5          4.0  \n",
       "2        2.0          2.5  "
      ]
     },
     "execution_count": 9,
     "metadata": {},
     "output_type": "execute_result"
    }
   ],
   "source": [
    "after.head(3)"
   ]
  },
  {
   "cell_type": "markdown",
   "metadata": {},
   "source": [
    "Next, we'll isolate the columns relevant to our analysis so the data is more easily accessible. We'll also set the data as copies so we can avoid any `SettingWithCopyWarning` issues later on."
   ]
  },
  {
   "cell_type": "code",
   "execution_count": 16,
   "metadata": {},
   "outputs": [
    {
     "data": {
      "text/html": [
       "<div>\n",
       "<style scoped>\n",
       "    .dataframe tbody tr th:only-of-type {\n",
       "        vertical-align: middle;\n",
       "    }\n",
       "\n",
       "    .dataframe tbody tr th {\n",
       "        vertical-align: top;\n",
       "    }\n",
       "\n",
       "    .dataframe thead th {\n",
       "        text-align: right;\n",
       "    }\n",
       "</style>\n",
       "<table border=\"1\" class=\"dataframe\">\n",
       "  <thead>\n",
       "    <tr style=\"text-align: right;\">\n",
       "      <th></th>\n",
       "      <th>FILM</th>\n",
       "      <th>Fandango_Stars</th>\n",
       "      <th>Fandango_Ratingvalue</th>\n",
       "      <th>Fandango_votes</th>\n",
       "      <th>Fandango_Difference</th>\n",
       "    </tr>\n",
       "  </thead>\n",
       "  <tbody>\n",
       "    <tr>\n",
       "      <th>0</th>\n",
       "      <td>Avengers: Age of Ultron (2015)</td>\n",
       "      <td>5.0</td>\n",
       "      <td>4.5</td>\n",
       "      <td>14846</td>\n",
       "      <td>0.5</td>\n",
       "    </tr>\n",
       "    <tr>\n",
       "      <th>1</th>\n",
       "      <td>Cinderella (2015)</td>\n",
       "      <td>5.0</td>\n",
       "      <td>4.5</td>\n",
       "      <td>12640</td>\n",
       "      <td>0.5</td>\n",
       "    </tr>\n",
       "    <tr>\n",
       "      <th>2</th>\n",
       "      <td>Ant-Man (2015)</td>\n",
       "      <td>5.0</td>\n",
       "      <td>4.5</td>\n",
       "      <td>12055</td>\n",
       "      <td>0.5</td>\n",
       "    </tr>\n",
       "  </tbody>\n",
       "</table>\n",
       "</div>"
      ],
      "text/plain": [
       "                             FILM  Fandango_Stars  Fandango_Ratingvalue  \\\n",
       "0  Avengers: Age of Ultron (2015)             5.0                   4.5   \n",
       "1               Cinderella (2015)             5.0                   4.5   \n",
       "2                  Ant-Man (2015)             5.0                   4.5   \n",
       "\n",
       "   Fandango_votes  Fandango_Difference  \n",
       "0           14846                  0.5  \n",
       "1           12640                  0.5  \n",
       "2           12055                  0.5  "
      ]
     },
     "execution_count": 16,
     "metadata": {},
     "output_type": "execute_result"
    }
   ],
   "source": [
    "fandango_before = before[['FILM', 'Fandango_Stars', 'Fandango_Ratingvalue', 'Fandango_votes', 'Fandango_Difference']].copy()\n",
    "fandango_after = after[['movie', 'year', 'fandango']].copy()\n",
    "\n",
    "fandango_before.head(3)"
   ]
  },
  {
   "cell_type": "code",
   "execution_count": 14,
   "metadata": {},
   "outputs": [
    {
     "data": {
      "text/html": [
       "<div>\n",
       "<style scoped>\n",
       "    .dataframe tbody tr th:only-of-type {\n",
       "        vertical-align: middle;\n",
       "    }\n",
       "\n",
       "    .dataframe tbody tr th {\n",
       "        vertical-align: top;\n",
       "    }\n",
       "\n",
       "    .dataframe thead th {\n",
       "        text-align: right;\n",
       "    }\n",
       "</style>\n",
       "<table border=\"1\" class=\"dataframe\">\n",
       "  <thead>\n",
       "    <tr style=\"text-align: right;\">\n",
       "      <th></th>\n",
       "      <th>movie</th>\n",
       "      <th>year</th>\n",
       "      <th>fandango</th>\n",
       "    </tr>\n",
       "  </thead>\n",
       "  <tbody>\n",
       "    <tr>\n",
       "      <th>0</th>\n",
       "      <td>10 Cloverfield Lane</td>\n",
       "      <td>2016</td>\n",
       "      <td>3.5</td>\n",
       "    </tr>\n",
       "    <tr>\n",
       "      <th>1</th>\n",
       "      <td>13 Hours</td>\n",
       "      <td>2016</td>\n",
       "      <td>4.5</td>\n",
       "    </tr>\n",
       "    <tr>\n",
       "      <th>2</th>\n",
       "      <td>A Cure for Wellness</td>\n",
       "      <td>2016</td>\n",
       "      <td>3.0</td>\n",
       "    </tr>\n",
       "  </tbody>\n",
       "</table>\n",
       "</div>"
      ],
      "text/plain": [
       "                 movie  year  fandango\n",
       "0  10 Cloverfield Lane  2016       3.5\n",
       "1             13 Hours  2016       4.5\n",
       "2  A Cure for Wellness  2016       3.0"
      ]
     },
     "execution_count": 14,
     "metadata": {},
     "output_type": "execute_result"
    }
   ],
   "source": [
    "fandango_after.head(3)"
   ]
  },
  {
   "cell_type": "markdown",
   "metadata": {},
   "source": [
    "### Changing the Goal of Our Analysis\n",
    "\n",
    "After reviewing the data sets on GitHub and reading Hickey's analysis we find that the sampling processes for the data are not random, and the samples we have access to are unlikely to be representative of the population we're interested in. We'll have to come up with a creative workaround that won't be perfect, but should be good enough. \n",
    "\n",
    "Instead of collecting new data, we'll just alter the goal of our analysis a bit. Our new goal will be to find out if there are any differences in Fandango's ratings for popular movies released in 2015 vs Fandango's ratings for popular movies released in 2016. We'll use Hickey's benchmark and consider \"popular\" movies those that have 30 fan ratings or more on Fandango's website. However, since sometime after 2018, Fandango completely changed the way the rated movies on their site, so we are going to do this analysis on information gathered before that  change took place.\n",
    "\n",
    "### Isolating the Samples We Need\n",
    "\n",
    "One of the sampling criteria in our 2016 data is `movie popularity`, but it doesn't provide info on the number of fan ratings on Fandango. We'll check the representativity of this data by randomly sampling 10 movies from the data set and then checking the fan ratings of those movies on Fandango's website manually to see if at least 80% of them have 30 fan ratings or more."
   ]
  },
  {
   "cell_type": "code",
   "execution_count": 17,
   "metadata": {},
   "outputs": [
    {
     "data": {
      "text/html": [
       "<div>\n",
       "<style scoped>\n",
       "    .dataframe tbody tr th:only-of-type {\n",
       "        vertical-align: middle;\n",
       "    }\n",
       "\n",
       "    .dataframe tbody tr th {\n",
       "        vertical-align: top;\n",
       "    }\n",
       "\n",
       "    .dataframe thead th {\n",
       "        text-align: right;\n",
       "    }\n",
       "</style>\n",
       "<table border=\"1\" class=\"dataframe\">\n",
       "  <thead>\n",
       "    <tr style=\"text-align: right;\">\n",
       "      <th></th>\n",
       "      <th>movie</th>\n",
       "      <th>year</th>\n",
       "      <th>fandango</th>\n",
       "    </tr>\n",
       "  </thead>\n",
       "  <tbody>\n",
       "    <tr>\n",
       "      <th>108</th>\n",
       "      <td>Mechanic: Resurrection</td>\n",
       "      <td>2016</td>\n",
       "      <td>4.0</td>\n",
       "    </tr>\n",
       "    <tr>\n",
       "      <th>206</th>\n",
       "      <td>Warcraft</td>\n",
       "      <td>2016</td>\n",
       "      <td>4.0</td>\n",
       "    </tr>\n",
       "    <tr>\n",
       "      <th>106</th>\n",
       "      <td>Max Steel</td>\n",
       "      <td>2016</td>\n",
       "      <td>3.5</td>\n",
       "    </tr>\n",
       "    <tr>\n",
       "      <th>107</th>\n",
       "      <td>Me Before You</td>\n",
       "      <td>2016</td>\n",
       "      <td>4.5</td>\n",
       "    </tr>\n",
       "    <tr>\n",
       "      <th>51</th>\n",
       "      <td>Fantastic Beasts and Where to Find Them</td>\n",
       "      <td>2016</td>\n",
       "      <td>4.5</td>\n",
       "    </tr>\n",
       "    <tr>\n",
       "      <th>33</th>\n",
       "      <td>Cell</td>\n",
       "      <td>2016</td>\n",
       "      <td>3.0</td>\n",
       "    </tr>\n",
       "    <tr>\n",
       "      <th>59</th>\n",
       "      <td>Genius</td>\n",
       "      <td>2016</td>\n",
       "      <td>3.5</td>\n",
       "    </tr>\n",
       "    <tr>\n",
       "      <th>152</th>\n",
       "      <td>Sully</td>\n",
       "      <td>2016</td>\n",
       "      <td>4.5</td>\n",
       "    </tr>\n",
       "    <tr>\n",
       "      <th>4</th>\n",
       "      <td>A Hologram for the King</td>\n",
       "      <td>2016</td>\n",
       "      <td>3.0</td>\n",
       "    </tr>\n",
       "    <tr>\n",
       "      <th>31</th>\n",
       "      <td>Captain America: Civil War</td>\n",
       "      <td>2016</td>\n",
       "      <td>4.5</td>\n",
       "    </tr>\n",
       "  </tbody>\n",
       "</table>\n",
       "</div>"
      ],
      "text/plain": [
       "                                       movie  year  fandango\n",
       "108                   Mechanic: Resurrection  2016       4.0\n",
       "206                                 Warcraft  2016       4.0\n",
       "106                                Max Steel  2016       3.5\n",
       "107                            Me Before You  2016       4.5\n",
       "51   Fantastic Beasts and Where to Find Them  2016       4.5\n",
       "33                                      Cell  2016       3.0\n",
       "59                                    Genius  2016       3.5\n",
       "152                                    Sully  2016       4.5\n",
       "4                    A Hologram for the King  2016       3.0\n",
       "31                Captain America: Civil War  2016       4.5"
      ]
     },
     "execution_count": 17,
     "metadata": {},
     "output_type": "execute_result"
    }
   ],
   "source": [
    "fandango_after.sample(10, random_state = 1)"
   ]
  },
  {
   "cell_type": "markdown",
   "metadata": {},
   "source": [
    "As of April 2018, these were the fan ratings:\n",
    "\n",
    "\n",
    "| Movie | Fan Ratings |\n",
    "| :--- | :---: |\n",
    "| Mechanic: Resurrection |\t2247 |\n",
    "| Warcraft |\t7271 |\n",
    "|Max Steel |\t493 |\n",
    "| Me Before You |\t5263 |\n",
    "| Fantastic Beasts and Where to Find Them |\t13400 |\n",
    "| Cell |\t17 |\n",
    "| Genius |\t127 |\n",
    "| Sully |\t11877 |\n",
    "| A Hologram for the King |\t500 |\n",
    "| Captain America: Civil War |\t35057 |\n",
    "\n",
    "We can quickly see that 9/10 of the movies in our sample would be considered popular. This should give us enough confidence for us to move forward with this data.\n",
    "\n",
    "We'll double-check the other data set to make sure that there are only movies with at least 30 fan ratings, as stated in the data's documentation."
   ]
  },
  {
   "cell_type": "code",
   "execution_count": 18,
   "metadata": {},
   "outputs": [
    {
     "data": {
      "text/plain": [
       "0"
      ]
     },
     "execution_count": 18,
     "metadata": {},
     "output_type": "execute_result"
    }
   ],
   "source": [
    "sum(fandango_before['Fandango_votes'] < 30)"
   ]
  },
  {
   "cell_type": "markdown",
   "metadata": {},
   "source": [
    "Now we'll want to isolate only the movies released in 2015 and 2016. We'll have to extract the release date from the `FILM` column."
   ]
  },
  {
   "cell_type": "code",
   "execution_count": 20,
   "metadata": {},
   "outputs": [
    {
     "data": {
      "text/html": [
       "<div>\n",
       "<style scoped>\n",
       "    .dataframe tbody tr th:only-of-type {\n",
       "        vertical-align: middle;\n",
       "    }\n",
       "\n",
       "    .dataframe tbody tr th {\n",
       "        vertical-align: top;\n",
       "    }\n",
       "\n",
       "    .dataframe thead th {\n",
       "        text-align: right;\n",
       "    }\n",
       "</style>\n",
       "<table border=\"1\" class=\"dataframe\">\n",
       "  <thead>\n",
       "    <tr style=\"text-align: right;\">\n",
       "      <th></th>\n",
       "      <th>FILM</th>\n",
       "      <th>Fandango_Stars</th>\n",
       "      <th>Fandango_Ratingvalue</th>\n",
       "      <th>Fandango_votes</th>\n",
       "      <th>Fandango_Difference</th>\n",
       "      <th>Year</th>\n",
       "    </tr>\n",
       "  </thead>\n",
       "  <tbody>\n",
       "    <tr>\n",
       "      <th>0</th>\n",
       "      <td>Avengers: Age of Ultron (2015)</td>\n",
       "      <td>5.0</td>\n",
       "      <td>4.5</td>\n",
       "      <td>14846</td>\n",
       "      <td>0.5</td>\n",
       "      <td>2015</td>\n",
       "    </tr>\n",
       "    <tr>\n",
       "      <th>1</th>\n",
       "      <td>Cinderella (2015)</td>\n",
       "      <td>5.0</td>\n",
       "      <td>4.5</td>\n",
       "      <td>12640</td>\n",
       "      <td>0.5</td>\n",
       "      <td>2015</td>\n",
       "    </tr>\n",
       "    <tr>\n",
       "      <th>2</th>\n",
       "      <td>Ant-Man (2015)</td>\n",
       "      <td>5.0</td>\n",
       "      <td>4.5</td>\n",
       "      <td>12055</td>\n",
       "      <td>0.5</td>\n",
       "      <td>2015</td>\n",
       "    </tr>\n",
       "  </tbody>\n",
       "</table>\n",
       "</div>"
      ],
      "text/plain": [
       "                             FILM  Fandango_Stars  Fandango_Ratingvalue  \\\n",
       "0  Avengers: Age of Ultron (2015)             5.0                   4.5   \n",
       "1               Cinderella (2015)             5.0                   4.5   \n",
       "2                  Ant-Man (2015)             5.0                   4.5   \n",
       "\n",
       "   Fandango_votes  Fandango_Difference  Year  \n",
       "0           14846                  0.5  2015  \n",
       "1           12640                  0.5  2015  \n",
       "2           12055                  0.5  2015  "
      ]
     },
     "execution_count": 20,
     "metadata": {},
     "output_type": "execute_result"
    }
   ],
   "source": [
    "fandango_before['Year'] = fandango_before['FILM'].str[-5:-1] # Extracting the release year\n",
    "\n",
    "fandango_before.head(3)"
   ]
  },
  {
   "cell_type": "markdown",
   "metadata": {},
   "source": [
    "Now we can examine the frequency distribution of our new `Year` column and isolate the movies from 2015."
   ]
  },
  {
   "cell_type": "code",
   "execution_count": 22,
   "metadata": {},
   "outputs": [
    {
     "data": {
      "text/plain": [
       "2015    129\n",
       "2014     17\n",
       "Name: Year, dtype: int64"
      ]
     },
     "execution_count": 22,
     "metadata": {},
     "output_type": "execute_result"
    }
   ],
   "source": [
    "fandango_before['Year'].value_counts()"
   ]
  },
  {
   "cell_type": "code",
   "execution_count": 38,
   "metadata": {},
   "outputs": [
    {
     "data": {
      "text/plain": [
       "2015    129\n",
       "Name: Year, dtype: int64"
      ]
     },
     "execution_count": 38,
     "metadata": {},
     "output_type": "execute_result"
    }
   ],
   "source": [
    "fandango_2015 = fandango_before[fandango_before['Year'] == '2015'].copy()\n",
    "fandango_2015['Year'].value_counts()"
   ]
  },
  {
   "cell_type": "markdown",
   "metadata": {},
   "source": [
    "Now we'll isolate the movies from 2016 in our `fandango_after` data set using the `year` column."
   ]
  },
  {
   "cell_type": "code",
   "execution_count": 39,
   "metadata": {},
   "outputs": [
    {
     "data": {
      "text/html": [
       "<div>\n",
       "<style scoped>\n",
       "    .dataframe tbody tr th:only-of-type {\n",
       "        vertical-align: middle;\n",
       "    }\n",
       "\n",
       "    .dataframe tbody tr th {\n",
       "        vertical-align: top;\n",
       "    }\n",
       "\n",
       "    .dataframe thead th {\n",
       "        text-align: right;\n",
       "    }\n",
       "</style>\n",
       "<table border=\"1\" class=\"dataframe\">\n",
       "  <thead>\n",
       "    <tr style=\"text-align: right;\">\n",
       "      <th></th>\n",
       "      <th>movie</th>\n",
       "      <th>year</th>\n",
       "      <th>fandango</th>\n",
       "    </tr>\n",
       "  </thead>\n",
       "  <tbody>\n",
       "    <tr>\n",
       "      <th>0</th>\n",
       "      <td>10 Cloverfield Lane</td>\n",
       "      <td>2016</td>\n",
       "      <td>3.5</td>\n",
       "    </tr>\n",
       "    <tr>\n",
       "      <th>1</th>\n",
       "      <td>13 Hours</td>\n",
       "      <td>2016</td>\n",
       "      <td>4.5</td>\n",
       "    </tr>\n",
       "    <tr>\n",
       "      <th>2</th>\n",
       "      <td>A Cure for Wellness</td>\n",
       "      <td>2016</td>\n",
       "      <td>3.0</td>\n",
       "    </tr>\n",
       "  </tbody>\n",
       "</table>\n",
       "</div>"
      ],
      "text/plain": [
       "                 movie  year  fandango\n",
       "0  10 Cloverfield Lane  2016       3.5\n",
       "1             13 Hours  2016       4.5\n",
       "2  A Cure for Wellness  2016       3.0"
      ]
     },
     "execution_count": 39,
     "metadata": {},
     "output_type": "execute_result"
    }
   ],
   "source": [
    "fandango_after.head(3)"
   ]
  },
  {
   "cell_type": "code",
   "execution_count": 40,
   "metadata": {},
   "outputs": [
    {
     "data": {
      "text/plain": [
       "2016    191\n",
       "2017     23\n",
       "Name: year, dtype: int64"
      ]
     },
     "execution_count": 40,
     "metadata": {},
     "output_type": "execute_result"
    }
   ],
   "source": [
    "fandango_after['year'].value_counts()"
   ]
  },
  {
   "cell_type": "code",
   "execution_count": 41,
   "metadata": {},
   "outputs": [
    {
     "data": {
      "text/plain": [
       "2016    191\n",
       "Name: year, dtype: int64"
      ]
     },
     "execution_count": 41,
     "metadata": {},
     "output_type": "execute_result"
    }
   ],
   "source": [
    "fandango_2016 = fandango_after[fandango_after['year'] == 2016].copy()\n",
    "fandango_2016['year'].value_counts()"
   ]
  },
  {
   "cell_type": "markdown",
   "metadata": {},
   "source": [
    "### Comparing Distribution Shapes\n",
    "\n",
    "We would like to know if there's any difference between Fandango's ratings for popular movies in 2015 vs 2016. One way we can do this is by comparing the distributions of movie ratings for both years.\n",
    "\n",
    "We'll compare the shapes of the distributions using kernel density plots in FiveThirtyEight's style."
   ]
  },
  {
   "cell_type": "code",
   "execution_count": 42,
   "metadata": {},
   "outputs": [
    {
     "data": {
      "image/png": "[encoded data removed]",
      "text/plain": [
       "<Figure size 576x396 with 1 Axes>"
      ]
     },
     "metadata": {},
     "output_type": "display_data"
    }
   ],
   "source": [
    "import matplotlib.pyplot as plt\n",
    "from numpy import arange\n",
    "%matplotlib inline\n",
    "plt.style.use('fivethirtyeight')\n",
    "\n",
    "fandango_2015['Fandango_Stars'].plot.kde(label = '2015', legend = True, figsize = (8,5.5))\n",
    "fandango_2016['fandango'].plot.kde(label = '2016', legend = True)\n",
    "\n",
    "plt.title(\"Comparing Distribution Shapes for Fandango's Ratings\\n(2015 vs 2016)\", y = 1.07)\n",
    "plt.xlabel('Stars')\n",
    "plt.xlim(0,5)\n",
    "plt.xticks(arange(0,5.1,.5))\n",
    "plt.show()"
   ]
  },
  {
   "cell_type": "markdown",
   "metadata": {},
   "source": [
    "Now that we have the data plotted we can answer questions about the shape of the distribution, how their shapes compare, if there is any clear differentiation, and if we can see any evidence that would suggest if there is a change in ratings on Fandango's site in 2016 from 2015.\n",
    "\n",
    "The first thing that is noticable is how both distributions skew left. This suggests that movies on the site are generally given mostly high ratings. \n",
    "\n",
    "The other thing we see is that the 2015 distribution is slightly shifted to the right, suggesting that the ratings for these movies were likely enhanced a bit to show the popular movies as having rated higher to the customer. We could speculate that Fandango may have done this intentionally in order to encourange more people to buy tickets for these movies through their site. Because most of Fandango's revenue comes from selling movies tickets there could have been some interest in making the movies seem more appealing to the customer to encourage them to make a purchase.\n",
    "\n",
    "### Comparing Relative Frequencies\n",
    "\n",
    "Comparing these distributions with kernel density plots is a great start, but now we'll want to analyze some more granular information. We'll examine frequency tables for the two distributions, normalizing the tables by showing percentages."
   ]
  },
  {
   "cell_type": "code",
   "execution_count": 43,
   "metadata": {},
   "outputs": [
    {
     "name": "stdout",
     "output_type": "stream",
     "text": [
      "2015\n",
      "----------------\n"
     ]
    },
    {
     "data": {
      "text/plain": [
       "3.0     8.527132\n",
       "3.5    17.829457\n",
       "4.0    28.682171\n",
       "4.5    37.984496\n",
       "5.0     6.976744\n",
       "Name: Fandango_Stars, dtype: float64"
      ]
     },
     "execution_count": 43,
     "metadata": {},
     "output_type": "execute_result"
    }
   ],
   "source": [
    "print('2015' + '\\n' + '-' * 16) # formatting the table\n",
    "fandango_2015['Fandango_Stars'].value_counts(normalize = True).sort_index() * 100"
   ]
  },
  {
   "cell_type": "code",
   "execution_count": 44,
   "metadata": {},
   "outputs": [
    {
     "name": "stdout",
     "output_type": "stream",
     "text": [
      "2016\n",
      "----------------\n"
     ]
    },
    {
     "data": {
      "text/plain": [
       "2.5     3.141361\n",
       "3.0     7.329843\n",
       "3.5    24.083770\n",
       "4.0    40.314136\n",
       "4.5    24.607330\n",
       "5.0     0.523560\n",
       "Name: fandango, dtype: float64"
      ]
     },
     "execution_count": 44,
     "metadata": {},
     "output_type": "execute_result"
    }
   ],
   "source": [
    "print('2016' + '\\n' + '-' * 16)\n",
    "fandango_2016['fandango'].value_counts(normalize = True).sort_index() * 100"
   ]
  },
  {
   "cell_type": "markdown",
   "metadata": {},
   "source": [
    "We can clearly see a difference here. The number of popular movies with 5 star ratings in 2016 was only 0.5% compared to 7% the year before. The most frequent rating in 2016 was 4 stars, but it 2015 it was 4.5 stars.\n",
    "\n",
    "The lower ratings were also different. In 2015 there were no movies below 3 stars, but in 2016 3% are at 2.5 stars.\n",
    "\n",
    "\n",
    "### Comparing Summary Statistics"
   ]
  },
  {
   "cell_type": "code",
   "execution_count": null,
   "metadata": {},
   "outputs": [],
   "source": []
  }
 ],
 "metadata": {
  "kernelspec": {
   "display_name": "Python 3",
   "language": "python",
   "name": "python3"
  },
  "language_info": {
   "codemirror_mode": {
    "name": "ipython",
    "version": 3
   },
   "file_extension": ".py",
   "mimetype": "text/x-python",
   "name": "python",
   "nbconvert_exporter": "python",
   "pygments_lexer": "ipython3",
   "version": "3.7.6"
  }
 },
 "nbformat": 4,
 "nbformat_minor": 4
}

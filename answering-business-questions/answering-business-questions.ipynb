{
 "cells": [
  {
   "cell_type": "markdown",
   "metadata": {},
   "source": [
    "# Answering Business Questions Using SQL\n",
    "\n",
    "In this project, we'll use SQL to answer some typical business questions using the Chinook database.\n",
    "\n",
    "A copy of the `chinook.db` schema can be seen below:"
   ]
  },
  {
   "cell_type": "markdown",
   "metadata": {},
   "source": [
    "![chinook-schema](chinook-schema.svg)"
   ]
  },
  {
   "cell_type": "markdown",
   "metadata": {},
   "source": [
    "### Setup\n",
    "\n",
    "You can use the following code if you need to install `ipython-sql`:\n",
    "\n",
    "    !conda install -yc conda-forge ipython-sql\n",
    "    \n",
    "First, we'll connect our Jupyter Notebook to our database file."
   ]
  },
  {
   "cell_type": "code",
   "execution_count": 1,
   "metadata": {},
   "outputs": [],
   "source": [
    "%%capture\n",
    "%load_ext sql\n",
    "%sql sqlite:///chinook.db"
   ]
  },
  {
   "cell_type": "markdown",
   "metadata": {},
   "source": [
    "Next, let's take a first look at the database and list out the tables and views to get a better idea of what we're working with."
   ]
  },
  {
   "cell_type": "code",
   "execution_count": 2,
   "metadata": {},
   "outputs": [
    {
     "name": "stdout",
     "output_type": "stream",
     "text": [
      " * sqlite:///chinook.db\n",
      "Done.\n"
     ]
    },
    {
     "data": {
      "text/html": [
       "<table>\n",
       "    <tr>\n",
       "        <th>name</th>\n",
       "        <th>type</th>\n",
       "    </tr>\n",
       "    <tr>\n",
       "        <td>album</td>\n",
       "        <td>table</td>\n",
       "    </tr>\n",
       "    <tr>\n",
       "        <td>artist</td>\n",
       "        <td>table</td>\n",
       "    </tr>\n",
       "    <tr>\n",
       "        <td>customer</td>\n",
       "        <td>table</td>\n",
       "    </tr>\n",
       "    <tr>\n",
       "        <td>employee</td>\n",
       "        <td>table</td>\n",
       "    </tr>\n",
       "    <tr>\n",
       "        <td>genre</td>\n",
       "        <td>table</td>\n",
       "    </tr>\n",
       "    <tr>\n",
       "        <td>invoice</td>\n",
       "        <td>table</td>\n",
       "    </tr>\n",
       "    <tr>\n",
       "        <td>invoice_line</td>\n",
       "        <td>table</td>\n",
       "    </tr>\n",
       "    <tr>\n",
       "        <td>media_type</td>\n",
       "        <td>table</td>\n",
       "    </tr>\n",
       "    <tr>\n",
       "        <td>playlist</td>\n",
       "        <td>table</td>\n",
       "    </tr>\n",
       "    <tr>\n",
       "        <td>playlist_track</td>\n",
       "        <td>table</td>\n",
       "    </tr>\n",
       "    <tr>\n",
       "        <td>track</td>\n",
       "        <td>table</td>\n",
       "    </tr>\n",
       "</table>"
      ],
      "text/plain": [
       "[('album', 'table'),\n",
       " ('artist', 'table'),\n",
       " ('customer', 'table'),\n",
       " ('employee', 'table'),\n",
       " ('genre', 'table'),\n",
       " ('invoice', 'table'),\n",
       " ('invoice_line', 'table'),\n",
       " ('media_type', 'table'),\n",
       " ('playlist', 'table'),\n",
       " ('playlist_track', 'table'),\n",
       " ('track', 'table')]"
      ]
     },
     "execution_count": 2,
     "metadata": {},
     "output_type": "execute_result"
    }
   ],
   "source": [
    "%%sql\n",
    "\n",
    "SELECT\n",
    "    name,\n",
    "    type\n",
    "FROM sqlite_master\n",
    "WHERE type IN (\"table\",\"view\");"
   ]
  },
  {
   "cell_type": "markdown",
   "metadata": {},
   "source": [
    "Here is our scenario:\n",
    "\n",
    "The Chinook Record Store has signed a deal with a new record label, and we need to select the first 3 out of 4 albums that we will add to the store. We only have the artists names and genre of music they produce as follows:\n",
    "\n",
    "\n",
    "| Artist Name | Genre |\n",
    "| :--- | --- |\n",
    "| Regal | Hip-Hop |\n",
    "|Red Tone | Punk |\n",
    "|Meteor and the Girls | Pop |\n",
    "|Slim Jim Bites | Blues |\n",
    "\n",
    "\n",
    "### Selecting Albums to Purchase\n",
    "\n",
    "First, we'll find out which genres sell best in the US to help us effectively choose which albums to advertise. "
   ]
  },
  {
   "cell_type": "code",
   "execution_count": 3,
   "metadata": {},
   "outputs": [
    {
     "name": "stdout",
     "output_type": "stream",
     "text": [
      " * sqlite:///chinook.db\n",
      "Done.\n"
     ]
    },
    {
     "data": {
      "text/html": [
       "<table>\n",
       "    <tr>\n",
       "        <th>genre</th>\n",
       "        <th>tracks_sold</th>\n",
       "        <th>percentage_sold</th>\n",
       "    </tr>\n",
       "    <tr>\n",
       "        <td>Rock</td>\n",
       "        <td>561</td>\n",
       "        <td>53.4</td>\n",
       "    </tr>\n",
       "    <tr>\n",
       "        <td>Alternative &amp; Punk</td>\n",
       "        <td>130</td>\n",
       "        <td>12.4</td>\n",
       "    </tr>\n",
       "    <tr>\n",
       "        <td>Metal</td>\n",
       "        <td>124</td>\n",
       "        <td>11.8</td>\n",
       "    </tr>\n",
       "    <tr>\n",
       "        <td>R&amp;B/Soul</td>\n",
       "        <td>53</td>\n",
       "        <td>5.0</td>\n",
       "    </tr>\n",
       "    <tr>\n",
       "        <td>Blues</td>\n",
       "        <td>36</td>\n",
       "        <td>3.4</td>\n",
       "    </tr>\n",
       "    <tr>\n",
       "        <td>Alternative</td>\n",
       "        <td>35</td>\n",
       "        <td>3.3</td>\n",
       "    </tr>\n",
       "    <tr>\n",
       "        <td>Pop</td>\n",
       "        <td>22</td>\n",
       "        <td>2.1</td>\n",
       "    </tr>\n",
       "    <tr>\n",
       "        <td>Latin</td>\n",
       "        <td>22</td>\n",
       "        <td>2.1</td>\n",
       "    </tr>\n",
       "    <tr>\n",
       "        <td>Hip Hop/Rap</td>\n",
       "        <td>20</td>\n",
       "        <td>1.9</td>\n",
       "    </tr>\n",
       "    <tr>\n",
       "        <td>Jazz</td>\n",
       "        <td>14</td>\n",
       "        <td>1.3</td>\n",
       "    </tr>\n",
       "    <tr>\n",
       "        <td>Easy Listening</td>\n",
       "        <td>13</td>\n",
       "        <td>1.2</td>\n",
       "    </tr>\n",
       "    <tr>\n",
       "        <td>Reggae</td>\n",
       "        <td>6</td>\n",
       "        <td>0.6</td>\n",
       "    </tr>\n",
       "    <tr>\n",
       "        <td>Electronica/Dance</td>\n",
       "        <td>5</td>\n",
       "        <td>0.5</td>\n",
       "    </tr>\n",
       "    <tr>\n",
       "        <td>Classical</td>\n",
       "        <td>4</td>\n",
       "        <td>0.4</td>\n",
       "    </tr>\n",
       "    <tr>\n",
       "        <td>Heavy Metal</td>\n",
       "        <td>3</td>\n",
       "        <td>0.3</td>\n",
       "    </tr>\n",
       "</table>"
      ],
      "text/plain": [
       "[('Rock', 561, 53.4),\n",
       " ('Alternative & Punk', 130, 12.4),\n",
       " ('Metal', 124, 11.8),\n",
       " ('R&B/Soul', 53, 5.0),\n",
       " ('Blues', 36, 3.4),\n",
       " ('Alternative', 35, 3.3),\n",
       " ('Pop', 22, 2.1),\n",
       " ('Latin', 22, 2.1),\n",
       " ('Hip Hop/Rap', 20, 1.9),\n",
       " ('Jazz', 14, 1.3),\n",
       " ('Easy Listening', 13, 1.2),\n",
       " ('Reggae', 6, 0.6),\n",
       " ('Electronica/Dance', 5, 0.5),\n",
       " ('Classical', 4, 0.4),\n",
       " ('Heavy Metal', 3, 0.3)]"
      ]
     },
     "execution_count": 3,
     "metadata": {},
     "output_type": "execute_result"
    }
   ],
   "source": [
    "%%sql\n",
    "\n",
    "WITH usa_sold AS\n",
    "   (SELECT il.*\n",
    "      FROM invoice_line il\n",
    "     INNER JOIN invoice i ON i.invoice_id = il.invoice_id\n",
    "     WHERE i.billing_country = 'USA'\n",
    "   )\n",
    "\n",
    "SELECT g.name genre,\n",
    "       COUNT(us.quantity) tracks_sold,\n",
    "       ROUND(CAST(COUNT(us.quantity) AS FLOAT) / (\n",
    "           SELECT COUNT(*) FROM usa_sold\n",
    "       ) * 100, 1) percentage_sold\n",
    "  FROM usa_sold us  \n",
    " INNER JOIN track t ON t.track_id = us.track_id\n",
    " INNER JOIN genre g ON g.genre_id = t.genre_id\n",
    " GROUP BY genre\n",
    " ORDER BY tracks_sold DESC\n",
    " LIMIT 15;"
   ]
  },
  {
   "cell_type": "markdown",
   "metadata": {},
   "source": [
    "Looking at the best selling genres in the US we determine that we should purchase \n",
    "\n",
    "| Artist Name | Genre | % Sold |\n",
    "| :--- | --- | --- |\n",
    "|Red Tone | Punk | 12.4 |\n",
    "|Slim Jim Bites | Blues | 3.4 |\n",
    "|Meteor and the Girls | Pop | 2.1 |\n",
    "\n",
    "We will not purchase Regal's Hip Hop album since Hip Hop/Rap only makes up 1.9% of sales by genre.\n",
    "\n",
    "Something to note however is that Rock makes up a massive 53.4% of albums sold, so we should be on the lookout for any new artists in this genre.\n",
    "\n",
    "\n",
    "### Analyzing Employee Sales Performance\n",
    "\n",
    "\n",
    "Next, we'll look at the purchases of customers to see which of the sales support agents are the best performers."
   ]
  },
  {
   "cell_type": "code",
   "execution_count": 11,
   "metadata": {},
   "outputs": [
    {
     "name": "stdout",
     "output_type": "stream",
     "text": [
      " * sqlite:///chinook.db\n",
      "Done.\n"
     ]
    },
    {
     "data": {
      "text/html": [
       "<table>\n",
       "    <tr>\n",
       "        <th>employee</th>\n",
       "        <th>hire_date</th>\n",
       "        <th>total_sales</th>\n",
       "    </tr>\n",
       "    <tr>\n",
       "        <td>Jane Peacock</td>\n",
       "        <td>2017-04-01 00:00:00</td>\n",
       "        <td>1731</td>\n",
       "    </tr>\n",
       "    <tr>\n",
       "        <td>Margaret Park</td>\n",
       "        <td>2017-05-03 00:00:00</td>\n",
       "        <td>1584</td>\n",
       "    </tr>\n",
       "    <tr>\n",
       "        <td>Steve Johnson</td>\n",
       "        <td>2017-10-17 00:00:00</td>\n",
       "        <td>1393</td>\n",
       "    </tr>\n",
       "</table>"
      ],
      "text/plain": [
       "[('Jane Peacock', '2017-04-01 00:00:00', 1731),\n",
       " ('Margaret Park', '2017-05-03 00:00:00', 1584),\n",
       " ('Steve Johnson', '2017-10-17 00:00:00', 1393)]"
      ]
     },
     "execution_count": 11,
     "metadata": {},
     "output_type": "execute_result"
    }
   ],
   "source": [
    "%%sql\n",
    "\n",
    "WITH customer_support_rep AS\n",
    "     (\n",
    "     SELECT i.customer_id,\n",
    "            c.support_rep_id,\n",
    "            SUM(i.total) AS total\n",
    "       FROM invoice i\n",
    "      INNER JOIN customer c ON i.customer_id = c.customer_id\n",
    "      GROUP BY i.customer_id, c.support_rep_id\n",
    "     )\n",
    "    \n",
    "SELECT \n",
    "       e.first_name || \" \" || e.last_name AS employee,\n",
    "       e.hire_date,\n",
    "       CAST(SUM(csr.total) AS INT) AS total_sales\n",
    "  FROM customer_support_rep csr\n",
    " INNER JOIN employee e ON e.employee_id = csr.support_rep_id\n",
    " GROUP BY employee;"
   ]
  },
  {
   "cell_type": "markdown",
   "metadata": {},
   "source": [
    "There doesn't seem to be a significant difference between the top-performing employee, and the lowest-performing employee, given that the total sales of each employee seems to roughly correspond to how long they've been employed.\n",
    "\n",
    "### Analyzing Sales by Country\n",
    "\n",
    "Country, Customers, Total Sales, Average Order Amount, Customer Lifetime Value"
   ]
  },
  {
   "cell_type": "markdown",
   "metadata": {},
   "source": [
    "Because there are a number of countries with only one customer, you should group these customers as \"Other\" in your analysis.\n",
    "\n",
    "Write a query that collates data on purchases from different countries.\n",
    "\n",
    "Where a country has only one customer, collect them into an \"Other\" group.\n",
    "\n",
    "The results should be sorted by the total sales from highest to lowest, with the \"Other\" group at the very bottom.\n",
    "\n",
    "For each country, include:\n",
    "total number of customers\n",
    "total value of sales\n",
    "average value of sales per customer\n",
    "average order value"
   ]
  },
  {
   "cell_type": "code",
   "execution_count": 1,
   "metadata": {},
   "outputs": [
    {
     "name": "stderr",
     "output_type": "stream",
     "text": [
      "UsageError: Cell magic `%%sql` not found.\n"
     ]
    }
   ],
   "source": [
    "%%sql\n",
    "\n",
    "invoice.billing_country\n",
    "\n",
    "SELECT country,\n",
    "       customers,\n",
    "       total_sales,\n",
    "       average_order,\n",
    "       customer_lifetime_value\n",
    "FROM\n"
   ]
  },
  {
   "cell_type": "markdown",
   "metadata": {},
   "source": [
    "Findings\n",
    "\n",
    "### Albums vs Individual Tracks"
   ]
  },
  {
   "cell_type": "code",
   "execution_count": null,
   "metadata": {},
   "outputs": [],
   "source": []
  },
  {
   "cell_type": "markdown",
   "metadata": {},
   "source": [
    "Findings.\n",
    "\n",
    "The idea for this project comes from the [DATAQUEST](https://app.dataquest.io/) **Intermediate SQL for Data Analysis** course."
   ]
  }
 ],
 "metadata": {
  "kernelspec": {
   "display_name": "Python 3",
   "language": "python",
   "name": "python3"
  },
  "language_info": {
   "codemirror_mode": {
    "name": "ipython",
    "version": 3
   },
   "file_extension": ".py",
   "mimetype": "text/x-python",
   "name": "python",
   "nbconvert_exporter": "python",
   "pygments_lexer": "ipython3",
   "version": "3.7.6"
  }
 },
 "nbformat": 4,
 "nbformat_minor": 2
}

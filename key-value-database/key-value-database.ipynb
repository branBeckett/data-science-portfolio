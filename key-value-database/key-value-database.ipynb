{
 "cells": [
  {
   "cell_type": "markdown",
   "metadata": {},
   "source": [
    "# Implementing a Key-Value Database\n",
    "\n",
    "In this project, we'll implement a key-value database that will be flexible and easy for other developers to use in their own projects. We'll build off of a B-Tree class and turn it into a fully functional key-value store.\n",
    "\n",
    "A key-value database operates similarly to a Python dictionary, but it allows the users to perform a range of queries. We'll be building a database similar to other open-source implementations of a key-value store like Redis, CouchDB, Mongo, and Cassandra. \n",
    "\n",
    "## Implementing a B-Tree\n",
    "\n",
    "Before we create our key-value database, we'll need to add in a B-tree class implementation.\n",
    "\n",
    "### Node Class\n",
    "\n",
    "To implement a B-tree from scratch, we'll need to create a `Node` class so that we can use two separate lists to represent the keys and the children.\n",
    "\n",
    "We'll also implement an `is_leaf` method so we know if the node is a leaf – has no children – or not. We'll also add a `__repr__()` method so that we can track the number of keys contained within a B-tree node."
   ]
  },
  {
   "cell_type": "code",
   "execution_count": 1,
   "metadata": {},
   "outputs": [],
   "source": [
    "import bisect\n",
    "\n",
    "class Node:\n",
    "\n",
    "    def __init__(self, keys=None, values=None, children=None, parent=None):\n",
    "        self.keys = keys or []\n",
    "        self.values = values or []\n",
    "        self.parent = parent\n",
    "        self.set_children(children)\n",
    "\n",
    "    def set_children(self, children):\n",
    "        self.children = children or []\n",
    "        for child in self.children:\n",
    "            child.parent = self\n",
    "\n",
    "    def is_leaf(self):\n",
    "        return len(self.children) == 0\n",
    "\n",
    "    def contains_key(self, key):\n",
    "        return key in self.keys\n",
    "    \n",
    "    def get_value(self, key):\n",
    "        for i, k in enumerate(self.keys):\n",
    "            if k == key:\n",
    "                return self.values[i]\n",
    "        return None\n",
    "\n",
    "    def get_insert_index(self, key):\n",
    "        return bisect.bisect(self.keys, key)\n",
    "\n",
    "    def insert_entry(self, key, value):\n",
    "        insert_index = self.get_insert_index(key)\n",
    "        self.keys.insert(insert_index, key)\n",
    "        self.values.insert(insert_index, value)\n",
    "        return insert_index\n",
    "\n",
    "    def split(self):\n",
    "        if self.parent is None:\n",
    "            return self.split_no_parent()\n",
    "        return self.split_with_parent()\n",
    "\n",
    "    def split_no_parent(self):\n",
    "        split_index = len(self) // 2\n",
    "        key_to_move_up = self.keys[split_index]\n",
    "        value_to_move_up = self.values[split_index]\n",
    "        # Create right node\n",
    "        right_node = Node(self.keys[split_index+1:], self.values[split_index+1:], self.children[split_index+1:])\n",
    "        # Update left node (self)\n",
    "        self.keys = self.keys[:split_index]\n",
    "        self.values = self.values[:split_index]\n",
    "        self.children = self.children[:split_index+1]\n",
    "        # Create parent\n",
    "        parent = Node([key_to_move_up], [value_to_move_up], [self, right_node])\n",
    "        return parent\n",
    "\n",
    "    def insert_child(self, insert_index, child): \n",
    "        self.children.insert(insert_index, child)\n",
    "        child.parent = self\n",
    "\n",
    "    def split_with_parent(self): \n",
    "        split_index = len(self) // 2\n",
    "        key_to_move_up = self.keys[split_index]\n",
    "        value_to_move_up = self.values[split_index]\n",
    "        # Create right node\n",
    "        right_node = Node(self.keys[split_index+1:], self.values[split_index+1:], self.children[split_index+1:])\n",
    "        # Update left node (self)\n",
    "        self.keys = self.keys[:split_index]\n",
    "        self.values = self.values[:split_index]\n",
    "        self.children = self.children[:split_index+1]\n",
    "        # Add new child to parent\n",
    "        key_insert_index = self.parent.insert_entry(key_to_move_up, value_to_move_up)\n",
    "        self.parent.insert_child(key_insert_index + 1, right_node)\n",
    "        return self.parent\n",
    "\n",
    "    def __len__(self):\n",
    "        return len(self.values)"
   ]
  },
  {
   "cell_type": "markdown",
   "metadata": {},
   "source": [
    "### B-Tree Class\n",
    "\n",
    "The following code represents the B-tree class."
   ]
  },
  {
   "cell_type": "code",
   "execution_count": 2,
   "metadata": {},
   "outputs": [],
   "source": [
    "class BTree:\n",
    "\n",
    "    def __init__(self, split_threshold):\n",
    "        self.root = Node()\n",
    "        self.split_threshold = split_threshold \n",
    "        self.height = 0\n",
    "        self.size = 0\n",
    "\n",
    "    def __len__(self):\n",
    "        return self.size\n",
    "    \n",
    "    def _find_node(self, current_node, key):\n",
    "        if current_node.contains_key(key):\n",
    "            return current_node\n",
    "        if current_node.is_leaf():\n",
    "            return None\n",
    "        child_index = current_node.get_insert_index(key) \n",
    "        return self._find_node(current_node.children[child_index], key)\n",
    "    \n",
    "    def contains(self, key):\n",
    "        node = self._find_node(self.root, key)\n",
    "        if node is None:\n",
    "            return False\n",
    "        return True\n",
    "    \n",
    "    def _add(self, current_node, key, value):\n",
    "        if current_node.is_leaf(): \n",
    "            current_node.insert_entry(key, value) \n",
    "        else:\n",
    "            child_index = current_node.get_insert_index(key) \n",
    "            self._add(current_node.children[child_index], key, value)\n",
    "        if len(current_node) > self.split_threshold: \n",
    "            parent = current_node.split()  \n",
    "            if current_node == self.root: \n",
    "                self.root = parent\n",
    "                self.height += 1\n",
    "                \n",
    "    def add(self, key, value):\n",
    "        self._add(self.root, key, value)\n",
    "        self.size += 1\n",
    "        \n",
    "    def get_value(self, key):\n",
    "        node = self._find_node(self.root, key)\n",
    "        if node is None:\n",
    "            return None\n",
    "        return node.get_value(key)"
   ]
  },
  {
   "cell_type": "markdown",
   "metadata": {},
   "source": [
    "## Override the Initializer\n",
    "\n",
    "Next, we'll declare a new class called `KVStore()` which will be a new extension of the `BTree` class above."
   ]
  },
  {
   "cell_type": "code",
   "execution_count": 3,
   "metadata": {},
   "outputs": [],
   "source": [
    "class KVStore(BTree):\n",
    "    \n",
    "    def __init__(self):\n",
    "        super().__init__(split_threshold=2)\n",
    "        \n",
    "    def add(self, key, value):\n",
    "        node = self._find_node(self.root, key)\n",
    "        if node is None:\n",
    "            super().add(key, value)\n",
    "        else:\n",
    "            for i, node_key in enumerate(node.keys):\n",
    "                if node_key == key:\n",
    "                    node.values[i] = value"
   ]
  },
  {
   "cell_type": "markdown",
   "metadata": {},
   "source": [
    "### Testing KVStore( )\n",
    "\n",
    "We're going to test the implementation we just created to make sure `KVStore()` works properly. To do this, we're going to add assertions that will ensure the state of the object is what it's supposed to be. "
   ]
  },
  {
   "cell_type": "code",
   "execution_count": 4,
   "metadata": {},
   "outputs": [],
   "source": [
    "kvs = KVStore()\n",
    "\n",
    "# Test the split threshold\n",
    "assert kvs.split_threshold == 2, \"Split Threshold is 2\"\n",
    "\n",
    "# Test the .add() and .get_value() methods\n",
    "for i in range(10):\n",
    "    kvs.add(i, i)\n",
    "    \n",
    "for i in range(10):\n",
    "    assert kvs.get_value(i) == i, \"i is i\"\n",
    "\n",
    "# Testing two entries with the same key and different values\n",
    "for i in range(10):\n",
    "    kvs.add(i, i + 1)\n",
    "    \n",
    "for i in range(10):\n",
    "    assert kvs.get_value(i) == i + 1, \"i is i + 1\""
   ]
  },
  {
   "cell_type": "markdown",
   "metadata": {},
   "source": [
    "## Implement the Get & Set\n",
    "\n",
    "We'll copy our `KVStore()` class from above and add `__setitem__` and `__getitem__`."
   ]
  },
  {
   "cell_type": "code",
   "execution_count": 5,
   "metadata": {},
   "outputs": [],
   "source": [
    "class KVStore(BTree):\n",
    "    \n",
    "    def __init__(self):\n",
    "        super().__init__(split_threshold=2)\n",
    "        \n",
    "    def add(self, key, value):\n",
    "        node = self._find_node(self.root, key)\n",
    "        if node is None:\n",
    "            super().add(key, value)\n",
    "        else:\n",
    "            for i, node_key in enumerate(node.keys):\n",
    "                if node_key == key:\n",
    "                    node.values[i] = value\n",
    "    \n",
    "    # Add the get and set methods\n",
    "    def __setitem__(self, key, value):\n",
    "        self.add(key, value)\n",
    "        \n",
    "    def __getitem__(self, key):\n",
    "        return self.get_value(key)"
   ]
  },
  {
   "cell_type": "markdown",
   "metadata": {},
   "source": [
    "### Testing the Get & Set Methods\n",
    "\n",
    "We'll run the same tests we ran earlier, but with a bracket syntax."
   ]
  },
  {
   "cell_type": "code",
   "execution_count": 6,
   "metadata": {},
   "outputs": [],
   "source": [
    "kvs = KVStore()\n",
    "\n",
    "# Test the split threshold\n",
    "assert kvs.split_threshold == 2, \"Split Threshold is 2\"\n",
    "\n",
    "# Test the .add() and .get_value() methods\n",
    "for i in range(10):\n",
    "    kvs[i] = i\n",
    "    \n",
    "for i in range(10):\n",
    "    assert kvs[i] == i, \"i is i\"\n",
    "\n",
    "# Testing two entries with the same key and different values\n",
    "for i in range(10):\n",
    "    kvs[i] = i + 1\n",
    "    \n",
    "for i in range(10):\n",
    "    assert kvs[i] == i + 1, \"i is i + 1\""
   ]
  },
  {
   "cell_type": "markdown",
   "metadata": {},
   "source": [
    "## Implementing a New `contains` Method\n",
    "\n",
    "Next, we'll implement a contains method to check if a given key is contained within the data structure. The `BTree` class already had a `contains()` method, so we'll just enhance it in our new class using `__contains__()`."
   ]
  },
  {
   "cell_type": "code",
   "execution_count": 7,
   "metadata": {},
   "outputs": [],
   "source": [
    "class KVStore(BTree):\n",
    "    \n",
    "    def __init__(self):\n",
    "        super().__init__(split_threshold=2)\n",
    "        \n",
    "    def add(self, key, value):\n",
    "        node = self._find_node(self.root, key)\n",
    "        if node is None:\n",
    "            super().add(key, value)\n",
    "        else:\n",
    "            for i, node_key in enumerate(node.keys):\n",
    "                if node_key == key:\n",
    "                    node.values[i] = value\n",
    "                    \n",
    "    def __setitem__(self, key, value):\n",
    "        self.add(key, value)\n",
    "        \n",
    "    def __getitem__(self, key):\n",
    "        return self.get_value(key)\n",
    "    \n",
    "    # Add the contains method\n",
    "    def __contains__(self, key):\n",
    "        return self.contains(key)"
   ]
  },
  {
   "cell_type": "markdown",
   "metadata": {},
   "source": [
    "## Testing the `in` Operator\n",
    "\n",
    "Here we'll test whether or not we can use the `in` operator on an instance of `KVStore()`."
   ]
  },
  {
   "cell_type": "code",
   "execution_count": 8,
   "metadata": {},
   "outputs": [],
   "source": [
    "kvs = KVStore()\n",
    "\n",
    "for char in 'abcdefghijklmnopqrstuvwxyz':\n",
    "    kvs[char] = char\n",
    "    \n",
    "for char in 'abcdefghijklmnopqrstuvwxyz':\n",
    "    assert char in kvs, 'Character in key-value store'"
   ]
  },
  {
   "cell_type": "markdown",
   "metadata": {},
   "source": [
    "## Implementing Range Queries\n",
    "\n",
    "A previous implementation of `range_query` in `KVStore()` only supports numeric keys. We'll need to remake this implementation so that it is more general where we can use other data types like strings."
   ]
  },
  {
   "cell_type": "code",
   "execution_count": 9,
   "metadata": {},
   "outputs": [],
   "source": [
    "class KVStore(BTree):\n",
    "    \n",
    "    def __init__(self):\n",
    "        super().__init__(split_threshold=2)\n",
    "        \n",
    "    def add(self, key, value):\n",
    "        node = self._find_node(self.root, key)\n",
    "        if node is None:\n",
    "            super().add(key, value)\n",
    "        else:\n",
    "            for i, node_key in enumerate(node.keys):\n",
    "                if node_key == key:\n",
    "                    node.values[i] = value\n",
    "                    \n",
    "    def __setitem__(self, key, value):\n",
    "        self.add(key, value)\n",
    "        \n",
    "    def __getitem__(self, key):\n",
    "        return self.get_value(key)\n",
    "    \n",
    "    def __contains__(self, key):\n",
    "        return self.contains(key)\n",
    "\n",
    "    # Add the range queries methods\n",
    "    def _range_query(self, range_begin, range_end, current_node, min_key, max_key):\n",
    "        if range_begin > max_key or range_end < min_key:\n",
    "            return []\n",
    "        results = []\n",
    "    \n",
    "        for i, key in enumerate(current_node.keys):\n",
    "            if range_begin <= key and key <= range_end:\n",
    "                results.append(current_node.values[i])\n",
    "        if not current_node.is_leaf():\n",
    "            for i, child in enumerate(current_node.children):\n",
    "                new_min_key = current_node.keys[i - 1] if i > 0 else min_key\n",
    "                new_max_key = current_node.keys[i] if i < len(current_node) else max_key\n",
    "                results += self._range_query(range_begin, range_end, child, new_min_key, new_max_key)\n",
    "        return results\n",
    "    \n",
    "    def range_query(self, range_begin, range_end):\n",
    "        return self._range_query(range_begin, range_end, self.root, float('-inf'), float('inf'))"
   ]
  },
  {
   "cell_type": "markdown",
   "metadata": {},
   "source": [
    "## Testing `KVStore()`"
   ]
  },
  {
   "cell_type": "code",
   "execution_count": 10,
   "metadata": {},
   "outputs": [],
   "source": [
    "class DictKVStore(dict):\n",
    "\n",
    "    def range_query(self, range_start, range_end):\n",
    "        result = []\n",
    "        for key in self.keys():\n",
    "            if range_start <= key and key <= range_end:\n",
    "                result.append(self[key])\n",
    "        return result"
   ]
  },
  {
   "cell_type": "code",
   "execution_count": 11,
   "metadata": {},
   "outputs": [],
   "source": [
    "dict_kv = DictKVStore()\n",
    "our_kv = KVStore()\n",
    "for i in range(10):\n",
    "    dict_kv[i] = i\n",
    "    our_kv[i] = i\n",
    "\n",
    "for range_start, range_end in [(1, 3), (4, 6), (1, 10), (5, 5)]:\n",
    "    dict_res = sorted(dict_kv.range_query(range_start, range_end))\n",
    "    our_res = sorted(our_kv.range_query(range_start, range_end))\n",
    "    assert dict_res == our_res, \"Both data structures return the same range query result.\""
   ]
  },
  {
   "cell_type": "markdown",
   "metadata": {},
   "source": [
    "## Performance Testing\n",
    "\n",
    "Lastly, we will perform some speed tests. We'll do this by creating some large .csv files, one with keys and values, the other with number ranges. We'll load in the entries in our `entries.csv`, and then loop over the queries in our `queries.csv`. For each query, we'll measure the execution times and runtime, and compute the ratio between them. Then, we can plot those values to better visualize the efficiency of `KVStore()`.\n",
    "\n",
    "### Creating CSV Files\n",
    "\n",
    "We need to first create data files that we will use to test our key-value store on.\n",
    "\n",
    "First, we'll create `entries.csv`."
   ]
  },
  {
   "cell_type": "code",
   "execution_count": 12,
   "metadata": {},
   "outputs": [],
   "source": [
    "import pandas as pd\n",
    "import numpy as np\n",
    "import random\n",
    "\n",
    "# Generate a list of keys from 0 to 49999\n",
    "rand_keys = random.sample(range(0, 50000), 50000)\n",
    "\n",
    "# Convert to a pandas dataframe\n",
    "entries = pd.DataFrame(rand_keys)\n",
    "\n",
    "# Generate a list of random values\n",
    "rand_val = np.random.randint(50000,100000,size=(50000, 1))\n",
    "\n",
    "# Add to our dataframe\n",
    "entries['value'] = rand_val\n",
    "\n",
    "# Add column names\n",
    "entries.columns = ['key', 'value']\n",
    "\n",
    "# Export as .csv\n",
    "entries.to_csv(r'entries.csv', header=True, index=False)"
   ]
  },
  {
   "cell_type": "markdown",
   "metadata": {},
   "source": [
    "Next, we'll create `queries.csv`."
   ]
  },
  {
   "cell_type": "code",
   "execution_count": 13,
   "metadata": {},
   "outputs": [],
   "source": [
    "# Generate a dataframe of random range starts from 0 to 49999\n",
    "queries = pd.DataFrame(np.random.randint(0,1000,size=(50000, 1)))\n",
    "\n",
    "# Add an end of range column that add a random number to the range start value\n",
    "queries['range_end'] = queries.apply(lambda range_start: range_start + np.random.randint(0, 1000), axis=1)\n",
    "\n",
    "# Add column names\n",
    "queries.columns = ['range_start', 'range_end']\n",
    "\n",
    "# Export as .csv\n",
    "queries.to_csv(r'queries.csv', header=True, index=False)"
   ]
  },
  {
   "cell_type": "markdown",
   "metadata": {},
   "source": [
    "### Testing `KVStore()` Performance\n",
    "\n",
    "Now that we've generated our test files, we can test our `KVStore()` efficiency vs. `DictKVStore()`."
   ]
  },
  {
   "cell_type": "code",
   "execution_count": 14,
   "metadata": {},
   "outputs": [],
   "source": [
    "import time\n",
    "import csv\n",
    "\n",
    "dict_kv = DictKVStore()\n",
    "our_kv = KVStore()\n",
    "\n",
    "# Loading entries.csv\n",
    "with open('entries.csv', 'r') as f:\n",
    "    rows = list(csv.reader(f))[1:]\n",
    "    for row in rows:\n",
    "        key = int(row[0])\n",
    "        value = int(row[1])\n",
    "        dict_kv[key] = value\n",
    "        our_kv[key] = value\n",
    "        \n",
    "# Calculate query times\n",
    "time_ratios = []\n",
    "\n",
    "with open('queries.csv', 'r') as f:\n",
    "    rows = list(csv.reader(f))[1:]\n",
    "    for row in rows:\n",
    "        range_start = int(row[0])\n",
    "        range_end = int(row[1])\n",
    "        \n",
    "        start = time.time()\n",
    "        dict_kv.range_query(range_start, range_end)\n",
    "        time_dict = time.time() - start\n",
    "        \n",
    "        start = time.time()\n",
    "        our_kv.range_query(range_start, range_end)\n",
    "        time_kv = time.time() - start\n",
    "        \n",
    "        time_ratios.append(time_dict / time_kv)"
   ]
  },
  {
   "cell_type": "markdown",
   "metadata": {},
   "source": [
    "### Plotting the Results"
   ]
  },
  {
   "cell_type": "code",
   "execution_count": 15,
   "metadata": {},
   "outputs": [
    {
     "data": {
      "image/png": "[encoded data removed]",
      "text/plain": [
       "<Figure size 432x288 with 1 Axes>"
      ]
     },
     "metadata": {
      "needs_background": "light"
     },
     "output_type": "display_data"
    }
   ],
   "source": [
    "import matplotlib.pyplot as plt\n",
    "\n",
    "plt.plot(time_ratios)\n",
    "plt.xlabel('Query Range Size')\n",
    "plt.ylabel('Runtime Ratio')\n",
    "plt.show()"
   ]
  },
  {
   "cell_type": "markdown",
   "metadata": {},
   "source": [
    "We can see that with 50,000 entries, we get a massive performance boost.\n",
    "\n",
    "## Conclusion & Next Steps\n",
    "\n",
    "We've successfully implemented a key-value database! All by building off of a B-Tree class, and now we can continue to use this database for other projects.\n",
    "\n",
    "Some next steps we could take in order to continue improving our key-value store could be to: \n",
    "\n",
    "* Create a save method and load method to be able to save or load the key-value store into a file.\n",
    "* Make the key-value store iterable.\n",
    "* Implement a new `BTree` from scratch that works even better than the one we used.\n",
    "\n",
    "The idea for this project comes from the [dataquest.io](https://www.dataquest.io) **Recursion and Trees**  course."
   ]
  }
 ],
 "metadata": {
  "kernelspec": {
   "display_name": "Python 3",
   "language": "python",
   "name": "python3"
  },
  "language_info": {
   "codemirror_mode": {
    "name": "ipython",
    "version": 3
   },
   "file_extension": ".py",
   "mimetype": "text/x-python",
   "name": "python",
   "nbconvert_exporter": "python",
   "pygments_lexer": "ipython3",
   "version": "3.7.9"
  }
 },
 "nbformat": 4,
 "nbformat_minor": 4
}

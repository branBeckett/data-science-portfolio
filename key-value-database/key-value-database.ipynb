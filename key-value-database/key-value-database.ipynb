{
 "cells": [
  {
   "cell_type": "markdown",
   "metadata": {},
   "source": [
    "# Implementing a Key-Value Database\n",
    "\n",
    "In this project, we'll implement a key-value database that will be flexible and easy for other developers to use in their own projects. We'll build off of a B-Tree class and turn it into a fully functional key-value store.\n",
    "\n",
    "A key-value database operates similarly to a Python dictionary, but it allows the users to perform a range of queries. We'll be building a database similar to other open-source implementations of a key-value store like Redis, CouchDB, Mongo, and Cassandra. \n",
    "\n",
    "## Implementing a B-Tree\n",
    "\n",
    "Before we create our key-value database, we'll need to add in a B-tree class implementation.\n",
    "\n",
    "### Node Class\n",
    "\n",
    "To implement a B-tree from scratch, we'll need to create a `Node` class so that we can use two separate lists to represent the keys and the children.\n",
    "\n",
    "We'll also implement an `is_leaf` method so we know if the node is a leaf – has no children – or not. We'll also add a `__repr__()` method so that we can track the number of keys contained within a B-tree node."
   ]
  },
  {
   "cell_type": "code",
   "execution_count": 1,
   "metadata": {},
   "outputs": [],
   "source": [
    "import bisect\n",
    "\n",
    "class Node:\n",
    "\n",
    "    def __init__(self, keys=None, values=None, children=None, parent=None):\n",
    "        self.keys = keys or []\n",
    "        self.values = values or []\n",
    "        self.parent = parent\n",
    "        self.set_children(children)\n",
    "\n",
    "    def set_children(self, children):\n",
    "        self.children = children or []\n",
    "        for child in self.children:\n",
    "            child.parent = self\n",
    "\n",
    "    def is_leaf(self):\n",
    "        return len(self.children) == 0\n",
    "\n",
    "    def contains_key(self, key):\n",
    "        return key in self.keys\n",
    "    \n",
    "    def get_value(self, key):\n",
    "        for i, k in enumerate(self.keys):\n",
    "            if k == key:\n",
    "                return self.values[i]\n",
    "        return None\n",
    "\n",
    "    def get_insert_index(self, key):\n",
    "        return bisect.bisect(self.keys, key)\n",
    "\n",
    "    def insert_entry(self, key, value):\n",
    "        insert_index = self.get_insert_index(key)\n",
    "        self.keys.insert(insert_index, key)\n",
    "        self.values.insert(insert_index, value)\n",
    "        return insert_index\n",
    "\n",
    "    def split(self):\n",
    "        if self.parent is None:\n",
    "            return self.split_no_parent()\n",
    "        return self.split_with_parent()\n",
    "\n",
    "    def split_no_parent(self):\n",
    "        split_index = len(self) // 2\n",
    "        key_to_move_up = self.keys[split_index]\n",
    "        value_to_move_up = self.values[split_index]\n",
    "        # Create right node\n",
    "        right_node = Node(self.keys[split_index+1:], self.values[split_index+1:], self.children[split_index+1:])\n",
    "        # Update left node (self)\n",
    "        self.keys = self.keys[:split_index]\n",
    "        self.values = self.values[:split_index]\n",
    "        self.children = self.children[:split_index+1]\n",
    "        # Create parent\n",
    "        parent = Node([key_to_move_up], [value_to_move_up], [self, right_node])\n",
    "        return parent\n",
    "\n",
    "    def insert_child(self, insert_index, child): \n",
    "        self.children.insert(insert_index, child)\n",
    "        child.parent = self\n",
    "\n",
    "    def split_with_parent(self): \n",
    "        split_index = len(self) // 2\n",
    "        key_to_move_up = self.keys[split_index]\n",
    "        value_to_move_up = self.values[split_index]\n",
    "        # Create right node\n",
    "        right_node = Node(self.keys[split_index+1:], self.values[split_index+1:], self.children[split_index+1:])\n",
    "        # Update left node (self)\n",
    "        self.keys = self.keys[:split_index]\n",
    "        self.values = self.values[:split_index]\n",
    "        self.children = self.children[:split_index+1]\n",
    "        # Add new child to parent\n",
    "        key_insert_index = self.parent.insert_entry(key_to_move_up, value_to_move_up)\n",
    "        self.parent.insert_child(key_insert_index + 1, right_node)\n",
    "        return self.parent\n",
    "\n",
    "    def __len__(self):\n",
    "        return len(self.values)"
   ]
  },
  {
   "cell_type": "markdown",
   "metadata": {},
   "source": [
    "### B-Tree Class\n",
    "\n",
    "The following code represents the B-tree class."
   ]
  },
  {
   "cell_type": "code",
   "execution_count": 2,
   "metadata": {},
   "outputs": [],
   "source": [
    "class BTree:\n",
    "\n",
    "    def __init__(self, split_threshold):\n",
    "        self.root = Node()\n",
    "        self.split_threshold = split_threshold \n",
    "        self.height = 0\n",
    "        self.size = 0\n",
    "\n",
    "    def __len__(self):\n",
    "        return self.size\n",
    "    \n",
    "    def _find_node(self, current_node, key):\n",
    "        if current_node.contains_key(key):\n",
    "            return current_node\n",
    "        if current_node.is_leaf():\n",
    "            return None\n",
    "        child_index = current_node.get_insert_index(key) \n",
    "        return self._find_node(current_node.children[child_index], key)\n",
    "    \n",
    "    def contains(self, key):\n",
    "        node = self._find_node(self.root, key)\n",
    "        if node is None:\n",
    "            return False\n",
    "        return True\n",
    "    \n",
    "    def _add(self, current_node, key, value):\n",
    "        if current_node.is_leaf(): \n",
    "            current_node.insert_entry(key, value) \n",
    "        else:\n",
    "            child_index = current_node.get_insert_index(key) \n",
    "            self._add(current_node.children[child_index], key, value)\n",
    "        if len(current_node) > self.split_threshold: \n",
    "            parent = current_node.split()  \n",
    "            if current_node == self.root: \n",
    "                self.root = parent\n",
    "                self.height += 1\n",
    "                \n",
    "    def add(self, key, value):\n",
    "        self._add(self.root, key, value)\n",
    "        self.size += 1\n",
    "        \n",
    "    def get_value(self, key):\n",
    "        node = self._find_node(self.root, key)\n",
    "        if node is None:\n",
    "            return None\n",
    "        return node.get_value(key)"
   ]
  },
  {
   "cell_type": "markdown",
   "metadata": {},
   "source": [
    "## Override the Initializer\n",
    "\n",
    "Next, we'll declare a new class called `KVStore` which will be a new extension of the `BTree` class above."
   ]
  },
  {
   "cell_type": "code",
   "execution_count": 3,
   "metadata": {},
   "outputs": [],
   "source": [
    "class KVStore(BTree):\n",
    "    \n",
    "    def __init__(self):\n",
    "        super().__init__(split_threshold=2)\n",
    "        \n",
    "    def add(self, key, value):\n",
    "        node = self._find_node(self.root, key)\n",
    "        if node is None:\n",
    "            super().add(key, value)\n",
    "        else:\n",
    "            for i, node_key in enumerate(node.keys):\n",
    "                if node_key == key:\n",
    "                    node.values[i] = value"
   ]
  },
  {
   "cell_type": "markdown",
   "metadata": {},
   "source": [
    "### Testing KVStore( )\n",
    "\n",
    "We're going to test the implementation we just created to make sure KVStore works properly. To do this, we're going to add assertions that will ensure the state of the object is what it's supposed to be. "
   ]
  },
  {
   "cell_type": "code",
   "execution_count": 4,
   "metadata": {},
   "outputs": [],
   "source": [
    "kvs = KVStore()\n",
    "\n",
    "# Test the split threshold\n",
    "assert kvs.split_threshold == 2, \"Split Threshold is 2\"\n",
    "\n",
    "# Test the .add() and .get_value() methods\n",
    "for i in range(10):\n",
    "    kvs.add(i, i)\n",
    "    \n",
    "for i in range(10):\n",
    "    assert kvs.get_value(i) == i, \"i is i\"\n",
    "\n",
    "# Testing two entries with the same key and different values\n",
    "for i in range(10):\n",
    "    kvs.add(i, i + 1)\n",
    "    \n",
    "for i in range(10):\n",
    "    assert kvs.get_value(i) == i + 1, \"i is i + 1\""
   ]
  },
  {
   "cell_type": "markdown",
   "metadata": {},
   "source": [
    "## Implement the Get & Set\n",
    "\n",
    "We'll copy our KVStore() class from above and add `__setitem__` and `__getitem__`."
   ]
  },
  {
   "cell_type": "code",
   "execution_count": 5,
   "metadata": {},
   "outputs": [],
   "source": [
    "class KVStore(BTree):\n",
    "    \n",
    "    def __init__(self):\n",
    "        super().__init__(split_threshold=2)\n",
    "        \n",
    "    def add(self, key, value):\n",
    "        node = self._find_node(self.root, key)\n",
    "        if node is None:\n",
    "            super().add(key, value)\n",
    "        else:\n",
    "            for i, node_key in enumerate(node.keys):\n",
    "                if node_key == key:\n",
    "                    node.values[i] = value\n",
    "                    \n",
    "    def __setitem__(self, key, value):\n",
    "        self.add(key, value)\n",
    "        \n",
    "    def __getitem__(self, key):\n",
    "        return self.get_value(key)"
   ]
  },
  {
   "cell_type": "markdown",
   "metadata": {},
   "source": [
    "### Testing the Get & Set Methods"
   ]
  },
  {
   "cell_type": "code",
   "execution_count": null,
   "metadata": {},
   "outputs": [],
   "source": []
  },
  {
   "cell_type": "markdown",
   "metadata": {},
   "source": [
    "Currently in progress..."
   ]
  }
 ],
 "metadata": {
  "kernelspec": {
   "display_name": "Python 3",
   "language": "python",
   "name": "python3"
  },
  "language_info": {
   "codemirror_mode": {
    "name": "ipython",
    "version": 3
   },
   "file_extension": ".py",
   "mimetype": "text/x-python",
   "name": "python",
   "nbconvert_exporter": "python",
   "pygments_lexer": "ipython3",
   "version": "3.7.9"
  }
 },
 "nbformat": 4,
 "nbformat_minor": 4
}

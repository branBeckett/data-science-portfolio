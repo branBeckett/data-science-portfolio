{
 "cells": [
  {
   "cell_type": "markdown",
   "metadata": {},
   "source": [
    "# Popular Data Science Questions\n",
    "\n",
    "In this project, we're going to work for a company that creates data science content like books, online articles, videos, and interactive text-based learning platforms. It will be our task to determine the best content that the company should create based on data from [Data Science Stack Exchange](https://datascience.stackexchange.com/). Here we can find what kind of data science content is more popular, and see what people who are new to programming want to know.\n",
    "\n",
    "Instead of having to scrape the website for data, Stack Exchange provides a public database that we can use [here](https://data.stackexchange.com/datascience/query/new) called the Stack Exchange Data Explorer–SEDE. We'll be using the Data Science Stack Exchange site; it is an ideal candidate for data since it is focussed on our topic and has a lot of unanswered questions.\n",
    "\n",
    "Spend some time exploring Stack Exchange if you are not already familiar with it. After spending some time investigating DSSE, it looks like tags will be useful in categorizing our content.\n",
    "\n",
    "\n"
   ]
  },
  {
   "cell_type": "markdown",
   "metadata": {},
   "source": []
  }
 ],
 "metadata": {
  "kernelspec": {
   "display_name": "Python 3",
   "language": "python",
   "name": "python3"
  },
  "language_info": {
   "codemirror_mode": {
    "name": "ipython",
    "version": 3
   },
   "file_extension": ".py",
   "mimetype": "text/x-python",
   "name": "python",
   "nbconvert_exporter": "python",
   "pygments_lexer": "ipython3",
   "version": "3.7.6"
  }
 },
 "nbformat": 4,
 "nbformat_minor": 4
}

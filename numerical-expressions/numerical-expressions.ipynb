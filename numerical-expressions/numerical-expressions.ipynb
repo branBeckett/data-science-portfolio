{
 "cells": [
  {
   "cell_type": "markdown",
   "metadata": {},
   "source": [
    "# Evaluating Numerical Expressions\n",
    "\n",
    "In this project, we'll use stacks to build a function that can evaluate complex numerical expressions stored within a string.\n",
    "\n",
    "For example, to calculate the expression `21 / (11 - 4) * 2 + 5`, we'll implement a function named `evaluate()` to evaluate the expression stored as a string.\n",
    "\n",
    "    expression = \"21 / (11 - 4) * 2 + 5\"\n",
    "    print(evaluate(expression))\n",
    "    11\n",
    "\n",
    "First we'll define a class called `Stack` that will be used to create linked lists and stack the individual elements together from the expression to be evaluated."
   ]
  },
  {
   "cell_type": "code",
   "execution_count": 1,
   "metadata": {},
   "outputs": [],
   "source": [
    "class Node:\n",
    "    \n",
    "    def __init__(self, data):\n",
    "        self.data = data\n",
    "        self.prev = None\n",
    "        self.next = None"
   ]
  },
  {
   "cell_type": "code",
   "execution_count": 2,
   "metadata": {},
   "outputs": [],
   "source": [
    "class Stack:\n",
    "\n",
    "    def __init__(self):\n",
    "        self.head = None\n",
    "        self.tail = None\n",
    "        self.length = 0\n",
    "\n",
    "    def append(self, data):\n",
    "        new_node = Node(data)\n",
    "        if self.length == 0:\n",
    "            self.head = self.tail = new_node\n",
    "        else:\n",
    "            self.tail.next = new_node\n",
    "            new_node.prev = self.tail\n",
    "            self.tail = new_node\n",
    "        self.length += 1\n",
    "\n",
    "    def __iter__(self):\n",
    "        self._iter_node = self.head\n",
    "        return self \n",
    "\n",
    "    def __next__(self):\n",
    "        if self._iter_node is None:\n",
    "            raise StopIteration\n",
    "        ret = self._iter_node.data\n",
    "        self._iter_node = self._iter_node.next\n",
    "        return ret\n",
    "\n",
    "    def prepend(self, data):\n",
    "        new_node = Node(data)\n",
    "        if self.length == 0:\n",
    "            self.head = self.tail = new_node\n",
    "        else:\n",
    "            self.head.prev = new_node\n",
    "            new_node.next = self.head\n",
    "            self.head = new_node\n",
    "        self.length += 1\n",
    "\n",
    "    def __len__(self):\n",
    "        return self.length\n",
    "\n",
    "    def __str__(self):\n",
    "        return str([value for value in self])\n",
    "    \n",
    "    def push(self, data):\n",
    "        self.append(data)\n",
    "\n",
    "    def peek(self):\n",
    "        return self.tail.data\n",
    "\n",
    "    def pop(self):\n",
    "        ret = self.tail.data\n",
    "        if self.length == 1:\n",
    "            self.tail = self.head = None\n",
    "        else:\n",
    "            self.tail = self.tail.prev\n",
    "            self.tail.next = None\n",
    "        self.length -= 1\n",
    "        return ret"
   ]
  },
  {
   "cell_type": "markdown",
   "metadata": {},
   "source": [
    "## Infix & Postfix Notation\n",
    "\n",
    "Expression are written using infix notation, meaning that the operators are placed between the operands. For example, the operator + is between two operands in the expression `1 + 10`.\n",
    "\n",
    "In postfix notation, the operands come before the operator, so `1 + 10` would look like `1 10 +`. This notation is easier for a computer to understand, and we can evaluate an expression in postfix using a stack. \n",
    "\n",
    "By reading the expression from left to right, if there is a number, that number gets pushed to the top of the stack. Then when we find an operator, we pop the top two elements of the stack, perform than operation, and push the result back into the stack. In the end, we're left with one last final value that is the result of our expression. \n",
    "\n",
    "For our function to work, we're going to evaluate in postfix notation. We can then later on create a function to convert an expression in infix notation into postfix to be more user-friendly. The first step is to transform our expression into a list of tokens."
   ]
  },
  {
   "cell_type": "code",
   "execution_count": 3,
   "metadata": {},
   "outputs": [
    {
     "name": "stdout",
     "output_type": "stream",
     "text": [
      "['12', '2', '4', '+', '/', '21', '*']\n"
     ]
    }
   ],
   "source": [
    "def tokenize(expression):\n",
    "    return expression.split()\n",
    "\n",
    "print(tokenize(\"12 2 4 + / 21 *\"))"
   ]
  },
  {
   "cell_type": "markdown",
   "metadata": {},
   "source": [
    "## Processing an Operator\n",
    "\n",
    "When our function comes across an operator, we need it to pop the top two values of the stack, and apply the operator to those two elements in the correct order. So if our expression is `10 - 1`, we need to subtract 1 from 10 and not 10 from 1. The element at the top of the stack is the 2nd operand in the expression, and the 2nd element in the stack is the 1st operand.\n",
    "\n",
    "We'll define several functions for to account for each of the operators we'll find in our expressions."
   ]
  },
  {
   "cell_type": "code",
   "execution_count": 4,
   "metadata": {},
   "outputs": [],
   "source": [
    "def process_minus(stack):\n",
    "    top = stack.pop()\n",
    "    second_to_top = stack.pop()\n",
    "    result = second_to_top - top  # subtraction\n",
    "    stack.push(result)"
   ]
  },
  {
   "cell_type": "code",
   "execution_count": 5,
   "metadata": {},
   "outputs": [],
   "source": [
    "def process_plus(stack):\n",
    "    top = stack.pop()\n",
    "    second_to_top = stack.pop()\n",
    "    result = second_to_top + top # addition\n",
    "    stack.push(result)"
   ]
  },
  {
   "cell_type": "code",
   "execution_count": 6,
   "metadata": {},
   "outputs": [],
   "source": [
    "def process_time(stack):\n",
    "    top = stack.pop()\n",
    "    second_to_top = stack.pop()\n",
    "    result = second_to_top * top # multiplication\n",
    "    stack.push(result)"
   ]
  },
  {
   "cell_type": "code",
   "execution_count": 7,
   "metadata": {},
   "outputs": [],
   "source": [
    "def process_divide(stack):\n",
    "    top = stack.pop()\n",
    "    second_to_top = stack.pop()\n",
    "    result = second_to_top / top # division\n",
    "    stack.push(result)"
   ]
  },
  {
   "cell_type": "code",
   "execution_count": 8,
   "metadata": {},
   "outputs": [],
   "source": [
    "def process_pow(stack):\n",
    "    top = stack.pop()\n",
    "    second_to_top = stack.pop()\n",
    "    result = second_to_top ** top # exponential\n",
    "    stack.push(result)"
   ]
  },
  {
   "cell_type": "markdown",
   "metadata": {},
   "source": [
    "## Evaluating Postfix Expressions\n",
    "\n",
    "Next, we'll create a function called `evaluate_postfix()` that will tokenize our expression, and then extract the operator and call the corresponding function to process the expression."
   ]
  },
  {
   "cell_type": "code",
   "execution_count": 9,
   "metadata": {},
   "outputs": [],
   "source": [
    "def evaluate_postfix(expression):\n",
    "    tokens = tokenize(expression)\n",
    "    stack = Stack()\n",
    "    for token in tokens:\n",
    "        if token == '-':\n",
    "            process_minus(stack)\n",
    "        elif token == '+':\n",
    "            process_plus(stack)\n",
    "        elif token == '*':\n",
    "            process_time(stack)\n",
    "        elif token == '/':\n",
    "            process_divide(stack)\n",
    "        elif token == '**':\n",
    "            process_pow(stack)\n",
    "        else:\n",
    "            stack.push(float(token))\n",
    "    return stack.pop()"
   ]
  },
  {
   "cell_type": "code",
   "execution_count": 10,
   "metadata": {},
   "outputs": [
    {
     "name": "stdout",
     "output_type": "stream",
     "text": [
      "-2.0\n",
      "8.0\n",
      "0.0\n",
      "2.0\n",
      "11.25\n",
      "45.0\n",
      "42.0\n",
      "4.0\n",
      "2.0\n"
     ]
    }
   ],
   "source": [
    "# Testing the function\n",
    "expressions = [\n",
    "    \"4 6 -\",\n",
    "    \"4 1 2 9 3 / * + 5 - *\",\n",
    "    \"1 2 + 3 -\",\n",
    "    \"1 2 - 3 +\",\n",
    "    \"10 3 5 * 16 4 - / +\",\n",
    "    \"5 3 4 2 - ** *\",\n",
    "    \"12 2 4 + / 21 *\",\n",
    "    \"1 1 + 2 **\",\n",
    "    \"1 1 2 ** +\"\n",
    "]\n",
    "\n",
    "for expression in expressions:\n",
    "    print(evaluate_postfix(expression))"
   ]
  },
  {
   "cell_type": "markdown",
   "metadata": {},
   "source": [
    "## Operator Precedence in Infix Notation\n",
    "\n",
    "Now that we've enabled the algorithm to evaluate postfix expressions, we need to take it one step further to enable it to evaluate infix expressions. We can do this by implementing a [Shunting-yard algorithm](https://en.wikipedia.org/wiki/Shunting-yard_algorithm#:~:text=In%20computer%20science%2C%20the%20shunting,abstract%20syntax%20tree%20(AST).) and  create a dictionary of precedence.\n",
    "\n",
    "The operation precedence rules are very important because they define the order in which the operations are performed. For example, in the expression `2 + 3 * 4`, we first need to multiply 3 by 4 before we add the 2. We can compare the precedence of our operators in our dictionary by assigning number values to the operators. This makes it easier to check if an operator has higher or lower precedence than another."
   ]
  },
  {
   "cell_type": "code",
   "execution_count": 12,
   "metadata": {},
   "outputs": [
    {
     "name": "stdout",
     "output_type": "stream",
     "text": [
      "True\n",
      "False\n",
      "True\n",
      "False\n"
     ]
    }
   ],
   "source": [
    "precedence = {\n",
    "    '+': 1,\n",
    "    '-': 1,\n",
    "    '*': 2,\n",
    "    '/': 2,\n",
    "    '**': 3\n",
    "}\n",
    "\n",
    "# Test the precedence dictionary\n",
    "print(precedence['+'] < precedence['*'])\n",
    "print(precedence['-'] < precedence['+'])\n",
    "print(precedence['/'] < precedence['**'])\n",
    "print(precedence['**'] < precedence['-'])"
   ]
  },
  {
   "cell_type": "markdown",
   "metadata": {},
   "source": [
    "## Handling Parenthesis\n",
    "\n",
    "The next challenge in evaluating expressions is dealing with parenthesis.\n",
    "\n",
    "For **opening parenthesis**, we'll need to call a function that will push the string \"(\" into the stack.\n",
    "\n",
    "For **closing parenthesis**, as long as the top of the stack isn't an opening parenthesis, we'll need a function that pops the top element and appends it to the postfix token list. The last part of our function will pop the opening parentheses out from the end of the stack."
   ]
  },
  {
   "cell_type": "code",
   "execution_count": 14,
   "metadata": {},
   "outputs": [],
   "source": [
    "# Opening Parenthesis\n",
    "def open_parenthesis(stack):\n",
    "    stack.push('(')\n",
    "\n",
    "# Closing Parenthesis\n",
    "def closing_parenthesis(stack, postfix):\n",
    "    while stack.peek() != '(':\n",
    "        postfix.append(stack.pop()) # Adds tokens until we reach \"(\"\n",
    "    stack.pop() # Removes the \"(\" from the end of the stack"
   ]
  },
  {
   "cell_type": "markdown",
   "metadata": {},
   "source": [
    "## Handling Operators"
   ]
  },
  {
   "cell_type": "code",
   "execution_count": null,
   "metadata": {},
   "outputs": [],
   "source": []
  },
  {
   "cell_type": "markdown",
   "metadata": {},
   "source": [
    "## Handling Numbers"
   ]
  },
  {
   "cell_type": "code",
   "execution_count": null,
   "metadata": {},
   "outputs": [],
   "source": []
  },
  {
   "cell_type": "markdown",
   "metadata": {},
   "source": [
    "## Implementing the Shunting-yard Algorithm"
   ]
  },
  {
   "cell_type": "code",
   "execution_count": null,
   "metadata": {},
   "outputs": [],
   "source": []
  },
  {
   "cell_type": "markdown",
   "metadata": {},
   "source": [
    "## Evaluating Infix Expressions"
   ]
  },
  {
   "cell_type": "code",
   "execution_count": null,
   "metadata": {},
   "outputs": [],
   "source": []
  },
  {
   "cell_type": "markdown",
   "metadata": {},
   "source": [
    "## Conclusion & Next Steps\n",
    "\n",
    "In this project we ...\n",
    "\n",
    "The idea for this project comes from the [DATAQUEST](https://app.dataquest.io/) **Data Structures Fundamentals** course. "
   ]
  }
 ],
 "metadata": {
  "kernelspec": {
   "display_name": "Python 3",
   "language": "python",
   "name": "python3"
  },
  "language_info": {
   "codemirror_mode": {
    "name": "ipython",
    "version": 3
   },
   "file_extension": ".py",
   "mimetype": "text/x-python",
   "name": "python",
   "nbconvert_exporter": "python",
   "pygments_lexer": "ipython3",
   "version": "3.7.9"
  }
 },
 "nbformat": 4,
 "nbformat_minor": 4
}

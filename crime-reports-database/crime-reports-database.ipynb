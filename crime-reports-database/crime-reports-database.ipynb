{
 "cells": [
  {
   "cell_type": "markdown",
   "metadata": {},
   "source": [
    "# Building a Database for Crime Reports\n",
    "\n",
    "In this project, we'll build a database to store data on crimes that have occurred in Boston. We'll look at managing database roles, creating database schemas and tables with proper datatypes, and loading data from CSV files into database tables.\n",
    "\n",
    "To start, we'll create a database named ***crimes_db*** containing a table inside called ***boston_crimes*** that will contain the properly formatted data from our csv file. Then we'll create a table inside a schema named ***crimes***. Next, we'll create our `readonly` and `readwrite` groups with the appropriate privileges. Lastly, we'll create a user for each of these groups.\n",
    "\n",
    "## Introduction to the Data\n",
    "\n",
    "The dataset we're using for this project can be found in this repository as `boston.csv`. Here are the first few rows to get a better idea for the data we're working with."
   ]
  },
  {
   "cell_type": "code",
   "execution_count": 3,
   "metadata": {},
   "outputs": [
    {
     "data": {
      "text/html": [
       "<div>\n",
       "<style scoped>\n",
       "    .dataframe tbody tr th:only-of-type {\n",
       "        vertical-align: middle;\n",
       "    }\n",
       "\n",
       "    .dataframe tbody tr th {\n",
       "        vertical-align: top;\n",
       "    }\n",
       "\n",
       "    .dataframe thead th {\n",
       "        text-align: right;\n",
       "    }\n",
       "</style>\n",
       "<table border=\"1\" class=\"dataframe\">\n",
       "  <thead>\n",
       "    <tr style=\"text-align: right;\">\n",
       "      <th></th>\n",
       "      <th>incident_number</th>\n",
       "      <th>offense_code</th>\n",
       "      <th>description</th>\n",
       "      <th>date</th>\n",
       "      <th>day_of_the_week</th>\n",
       "      <th>lat</th>\n",
       "      <th>long</th>\n",
       "    </tr>\n",
       "  </thead>\n",
       "  <tbody>\n",
       "    <tr>\n",
       "      <th>0</th>\n",
       "      <td>1</td>\n",
       "      <td>619</td>\n",
       "      <td>LARCENY ALL OTHERS</td>\n",
       "      <td>2018-09-02</td>\n",
       "      <td>Sunday</td>\n",
       "      <td>42.357791</td>\n",
       "      <td>-71.139371</td>\n",
       "    </tr>\n",
       "    <tr>\n",
       "      <th>1</th>\n",
       "      <td>2</td>\n",
       "      <td>1402</td>\n",
       "      <td>VANDALISM</td>\n",
       "      <td>2018-08-21</td>\n",
       "      <td>Tuesday</td>\n",
       "      <td>42.306821</td>\n",
       "      <td>-71.060300</td>\n",
       "    </tr>\n",
       "    <tr>\n",
       "      <th>2</th>\n",
       "      <td>3</td>\n",
       "      <td>3410</td>\n",
       "      <td>TOWED MOTOR VEHICLE</td>\n",
       "      <td>2018-09-03</td>\n",
       "      <td>Monday</td>\n",
       "      <td>42.346589</td>\n",
       "      <td>-71.072429</td>\n",
       "    </tr>\n",
       "    <tr>\n",
       "      <th>3</th>\n",
       "      <td>4</td>\n",
       "      <td>3114</td>\n",
       "      <td>INVESTIGATE PROPERTY</td>\n",
       "      <td>2018-09-03</td>\n",
       "      <td>Monday</td>\n",
       "      <td>42.334182</td>\n",
       "      <td>-71.078664</td>\n",
       "    </tr>\n",
       "    <tr>\n",
       "      <th>4</th>\n",
       "      <td>5</td>\n",
       "      <td>3114</td>\n",
       "      <td>INVESTIGATE PROPERTY</td>\n",
       "      <td>2018-09-03</td>\n",
       "      <td>Monday</td>\n",
       "      <td>42.275365</td>\n",
       "      <td>-71.090361</td>\n",
       "    </tr>\n",
       "  </tbody>\n",
       "</table>\n",
       "</div>"
      ],
      "text/plain": [
       "   incident_number  offense_code           description        date  \\\n",
       "0                1           619    LARCENY ALL OTHERS  2018-09-02   \n",
       "1                2          1402             VANDALISM  2018-08-21   \n",
       "2                3          3410   TOWED MOTOR VEHICLE  2018-09-03   \n",
       "3                4          3114  INVESTIGATE PROPERTY  2018-09-03   \n",
       "4                5          3114  INVESTIGATE PROPERTY  2018-09-03   \n",
       "\n",
       "  day_of_the_week        lat       long  \n",
       "0          Sunday  42.357791 -71.139371  \n",
       "1         Tuesday  42.306821 -71.060300  \n",
       "2          Monday  42.346589 -71.072429  \n",
       "3          Monday  42.334182 -71.078664  \n",
       "4          Monday  42.275365 -71.090361  "
      ]
     },
     "execution_count": 3,
     "metadata": {},
     "output_type": "execute_result"
    }
   ],
   "source": [
    "import pandas as pd\n",
    "\n",
    "boston = pd.read_csv('boston.csv')\n",
    "boston.head()"
   ]
  },
  {
   "cell_type": "markdown",
   "metadata": {},
   "source": [
    "`incident_number` identifier of the committed crime\n",
    "\n",
    "`offense_code` numeric identifier code for the committed crime\n",
    "\n",
    "`description` description of the crime committed\n",
    "\n",
    "`date` date crime occurred in yyyy-mm-dd format\n",
    "\n",
    "`day_of_the_week` corresponding day of the week crime occurred\n",
    "\n",
    "`lat` latitude location where the crime occurred\n",
    "\n",
    "`long` longitude location where the crime occurred"
   ]
  },
  {
   "cell_type": "code",
   "execution_count": null,
   "metadata": {},
   "outputs": [],
   "source": [
    "imoprt psycopg2\n",
    "\n",
    "conn = psycopg2.connect(dbname=, user=)\n",
    "conn.autocommit = True\n",
    "cur = conn.cursor()\n",
    "cur.execute(\"CREATE DATABASE crime_db;\")\n",
    "conn.close()"
   ]
  },
  {
   "cell_type": "markdown",
   "metadata": {},
   "source": [
    "## Creating the Crime Database"
   ]
  },
  {
   "cell_type": "code",
   "execution_count": null,
   "metadata": {},
   "outputs": [],
   "source": []
  }
 ],
 "metadata": {
  "kernelspec": {
   "display_name": "Python 3",
   "language": "python",
   "name": "python3"
  },
  "language_info": {
   "codemirror_mode": {
    "name": "ipython",
    "version": 3
   },
   "file_extension": ".py",
   "mimetype": "text/x-python",
   "name": "python",
   "nbconvert_exporter": "python",
   "pygments_lexer": "ipython3",
   "version": "3.7.9"
  }
 },
 "nbformat": 4,
 "nbformat_minor": 4
}

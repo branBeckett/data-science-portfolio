{
 "cells": [
  {
   "cell_type": "markdown",
   "metadata": {},
   "source": [
    "# Mobile App for Lottery Addiction\n",
    "\n",
    "In this project, we are going to look at a fictional scenario where a medical institute is attempting to prevent and treat gambling addictions by building a mobile app to help lottery addicts better estimate their chances of winning. \n",
    "\n",
    "For the first version of the app, our task will be to create the logical core and calculate probabilities. We'll focus on the 6/49 lottery and build functions that will enable the app users to answer questions like:\n",
    "\n",
    "* What is the probability of winning the jackpot with a single ticket?\n",
    "* What is the probability of winning the jackpot with x number of different tickets?\n",
    "* What is the probability of having x number of winning numbers on a single ticket?\n",
    "\n",
    "We'll be looking at a dataset from the national 6/49 lottery game in Canada that contains historical data for 3,665 drawings, dating from 1982 to 2018 that can be downloaded from Kaggle [here](https://www.kaggle.com/datascienceai/lottery-dataset).\n",
    "\n",
    "## Core Functions\n",
    "\n",
    "To start off, we'll write two functions that we will frequently use throughout our project.\n",
    "\n",
    "* `factorial()`  – a function to calculate factorials\n",
    "* `combinations()` – a function to calculate combinations"
   ]
  },
  {
   "cell_type": "code",
   "execution_count": 1,
   "metadata": {},
   "outputs": [],
   "source": [
    "# The lottery drawing is done without replacement, so once a number is drawn, it isn't put back in the set\n",
    "def factorial(n):\n",
    "    final_product = 1\n",
    "    for i in range(n, 0, -1):\n",
    "        final_product *= i\n",
    "    return final_product\n",
    "\n",
    "def combinations(n, k):\n",
    "    numerator = factorial(n)\n",
    "    denominator = factorial(k) * factorial(n - k)\n",
    "    return numerator / denominator"
   ]
  },
  {
   "cell_type": "markdown",
   "metadata": {},
   "source": [
    "## One-Ticket Probability\n",
    "\n",
    "In the 6/49 lottery, six numbers are drawn from a set ranging from 1 to 49. For a player to win the jackpot, all six of the numbers on their ticket must match all six of the numbers drawn.\n",
    "\n",
    "Next, we'll write the `one_ticket_probability` function. For our function to work in the app, the user will need to enter six different numbers from 1 to 49. That data will come as a Python list and serve as the input to our function. The function needs to then print the probability value in a user friendly was that will be easy for people without probability training to understand. "
   ]
  },
  {
   "cell_type": "code",
   "execution_count": 2,
   "metadata": {},
   "outputs": [],
   "source": [
    "def one_ticket_probability(number_list):\n",
    "    num_combinations = combinations(49, 6)\n",
    "    one_ticket = 1 / num_combinations\n",
    "    probability_pct = one_ticket * 100\n",
    "    \n",
    "    print('''The chances of winning the jackpot with the numbers {} are only {:.7f}%. \\nThis means that you have only a 1 in {:,} chance of winning.'''.format(number_list, probability_pct, int(num_combinations)))"
   ]
  },
  {
   "cell_type": "markdown",
   "metadata": {},
   "source": [
    "Let's test our function using a few inputs to make sure it's working correctly."
   ]
  },
  {
   "cell_type": "code",
   "execution_count": 3,
   "metadata": {},
   "outputs": [
    {
     "name": "stdout",
     "output_type": "stream",
     "text": [
      "The chances of winning the jackpot with the numbers [11, 12, 18, 24, 44, 10] are only 0.0000072%. \n",
      "This means that you have only a 1 in 13,983,816 chance of winning.\n"
     ]
    }
   ],
   "source": [
    "test_input_1 = [11, 12, 18, 24, 44, 10]\n",
    "one_ticket_probability(test_input_1)"
   ]
  },
  {
   "cell_type": "code",
   "execution_count": 4,
   "metadata": {},
   "outputs": [
    {
     "name": "stdout",
     "output_type": "stream",
     "text": [
      "The chances of winning the jackpot with the numbers [1, 2, 3, 4, 5, 6] are only 0.0000072%. \n",
      "This means that you have only a 1 in 13,983,816 chance of winning.\n"
     ]
    }
   ],
   "source": [
    "test_input_2 = [1, 2, 3, 4, 5, 6]\n",
    "one_ticket_probability(test_input_2)"
   ]
  },
  {
   "cell_type": "markdown",
   "metadata": {},
   "source": [
    "## Looking at the Historical Data for Canada Lottery\n",
    "\n",
    "Next, we'll check out the data in our dataset so that we can compare the user's ticket numbers against the historical lottery data in Canada, and determine whether or not they would have ever won the jackpot by now."
   ]
  },
  {
   "cell_type": "code",
   "execution_count": 5,
   "metadata": {},
   "outputs": [
    {
     "data": {
      "text/plain": [
       "(3665, 11)"
      ]
     },
     "execution_count": 5,
     "metadata": {},
     "output_type": "execute_result"
    }
   ],
   "source": [
    "import pandas as pd\n",
    "\n",
    "canada_lottery = pd.read_csv('649.csv')\n",
    "canada_lottery.shape"
   ]
  },
  {
   "cell_type": "code",
   "execution_count": 6,
   "metadata": {},
   "outputs": [
    {
     "data": {
      "text/html": [
       "<div>\n",
       "<style scoped>\n",
       "    .dataframe tbody tr th:only-of-type {\n",
       "        vertical-align: middle;\n",
       "    }\n",
       "\n",
       "    .dataframe tbody tr th {\n",
       "        vertical-align: top;\n",
       "    }\n",
       "\n",
       "    .dataframe thead th {\n",
       "        text-align: right;\n",
       "    }\n",
       "</style>\n",
       "<table border=\"1\" class=\"dataframe\">\n",
       "  <thead>\n",
       "    <tr style=\"text-align: right;\">\n",
       "      <th></th>\n",
       "      <th>PRODUCT</th>\n",
       "      <th>DRAW NUMBER</th>\n",
       "      <th>SEQUENCE NUMBER</th>\n",
       "      <th>DRAW DATE</th>\n",
       "      <th>NUMBER DRAWN 1</th>\n",
       "      <th>NUMBER DRAWN 2</th>\n",
       "      <th>NUMBER DRAWN 3</th>\n",
       "      <th>NUMBER DRAWN 4</th>\n",
       "      <th>NUMBER DRAWN 5</th>\n",
       "      <th>NUMBER DRAWN 6</th>\n",
       "      <th>BONUS NUMBER</th>\n",
       "    </tr>\n",
       "  </thead>\n",
       "  <tbody>\n",
       "    <tr>\n",
       "      <th>0</th>\n",
       "      <td>649</td>\n",
       "      <td>1</td>\n",
       "      <td>0</td>\n",
       "      <td>6/12/1982</td>\n",
       "      <td>3</td>\n",
       "      <td>11</td>\n",
       "      <td>12</td>\n",
       "      <td>14</td>\n",
       "      <td>41</td>\n",
       "      <td>43</td>\n",
       "      <td>13</td>\n",
       "    </tr>\n",
       "    <tr>\n",
       "      <th>1</th>\n",
       "      <td>649</td>\n",
       "      <td>2</td>\n",
       "      <td>0</td>\n",
       "      <td>6/19/1982</td>\n",
       "      <td>8</td>\n",
       "      <td>33</td>\n",
       "      <td>36</td>\n",
       "      <td>37</td>\n",
       "      <td>39</td>\n",
       "      <td>41</td>\n",
       "      <td>9</td>\n",
       "    </tr>\n",
       "    <tr>\n",
       "      <th>2</th>\n",
       "      <td>649</td>\n",
       "      <td>3</td>\n",
       "      <td>0</td>\n",
       "      <td>6/26/1982</td>\n",
       "      <td>1</td>\n",
       "      <td>6</td>\n",
       "      <td>23</td>\n",
       "      <td>24</td>\n",
       "      <td>27</td>\n",
       "      <td>39</td>\n",
       "      <td>34</td>\n",
       "    </tr>\n",
       "    <tr>\n",
       "      <th>3</th>\n",
       "      <td>649</td>\n",
       "      <td>4</td>\n",
       "      <td>0</td>\n",
       "      <td>7/3/1982</td>\n",
       "      <td>3</td>\n",
       "      <td>9</td>\n",
       "      <td>10</td>\n",
       "      <td>13</td>\n",
       "      <td>20</td>\n",
       "      <td>43</td>\n",
       "      <td>34</td>\n",
       "    </tr>\n",
       "    <tr>\n",
       "      <th>4</th>\n",
       "      <td>649</td>\n",
       "      <td>5</td>\n",
       "      <td>0</td>\n",
       "      <td>7/10/1982</td>\n",
       "      <td>5</td>\n",
       "      <td>14</td>\n",
       "      <td>21</td>\n",
       "      <td>31</td>\n",
       "      <td>34</td>\n",
       "      <td>47</td>\n",
       "      <td>45</td>\n",
       "    </tr>\n",
       "  </tbody>\n",
       "</table>\n",
       "</div>"
      ],
      "text/plain": [
       "   PRODUCT  DRAW NUMBER  SEQUENCE NUMBER  DRAW DATE  NUMBER DRAWN 1  \\\n",
       "0      649            1                0  6/12/1982               3   \n",
       "1      649            2                0  6/19/1982               8   \n",
       "2      649            3                0  6/26/1982               1   \n",
       "3      649            4                0   7/3/1982               3   \n",
       "4      649            5                0  7/10/1982               5   \n",
       "\n",
       "   NUMBER DRAWN 2  NUMBER DRAWN 3  NUMBER DRAWN 4  NUMBER DRAWN 5  \\\n",
       "0              11              12              14              41   \n",
       "1              33              36              37              39   \n",
       "2               6              23              24              27   \n",
       "3               9              10              13              20   \n",
       "4              14              21              31              34   \n",
       "\n",
       "   NUMBER DRAWN 6  BONUS NUMBER  \n",
       "0              43            13  \n",
       "1              41             9  \n",
       "2              39            34  \n",
       "3              43            34  \n",
       "4              47            45  "
      ]
     },
     "execution_count": 6,
     "metadata": {},
     "output_type": "execute_result"
    }
   ],
   "source": [
    "canada_lottery.head()"
   ]
  },
  {
   "cell_type": "code",
   "execution_count": 7,
   "metadata": {},
   "outputs": [
    {
     "data": {
      "text/html": [
       "<div>\n",
       "<style scoped>\n",
       "    .dataframe tbody tr th:only-of-type {\n",
       "        vertical-align: middle;\n",
       "    }\n",
       "\n",
       "    .dataframe tbody tr th {\n",
       "        vertical-align: top;\n",
       "    }\n",
       "\n",
       "    .dataframe thead th {\n",
       "        text-align: right;\n",
       "    }\n",
       "</style>\n",
       "<table border=\"1\" class=\"dataframe\">\n",
       "  <thead>\n",
       "    <tr style=\"text-align: right;\">\n",
       "      <th></th>\n",
       "      <th>PRODUCT</th>\n",
       "      <th>DRAW NUMBER</th>\n",
       "      <th>SEQUENCE NUMBER</th>\n",
       "      <th>DRAW DATE</th>\n",
       "      <th>NUMBER DRAWN 1</th>\n",
       "      <th>NUMBER DRAWN 2</th>\n",
       "      <th>NUMBER DRAWN 3</th>\n",
       "      <th>NUMBER DRAWN 4</th>\n",
       "      <th>NUMBER DRAWN 5</th>\n",
       "      <th>NUMBER DRAWN 6</th>\n",
       "      <th>BONUS NUMBER</th>\n",
       "    </tr>\n",
       "  </thead>\n",
       "  <tbody>\n",
       "    <tr>\n",
       "      <th>3660</th>\n",
       "      <td>649</td>\n",
       "      <td>3587</td>\n",
       "      <td>0</td>\n",
       "      <td>6/6/2018</td>\n",
       "      <td>10</td>\n",
       "      <td>15</td>\n",
       "      <td>23</td>\n",
       "      <td>38</td>\n",
       "      <td>40</td>\n",
       "      <td>41</td>\n",
       "      <td>35</td>\n",
       "    </tr>\n",
       "    <tr>\n",
       "      <th>3661</th>\n",
       "      <td>649</td>\n",
       "      <td>3588</td>\n",
       "      <td>0</td>\n",
       "      <td>6/9/2018</td>\n",
       "      <td>19</td>\n",
       "      <td>25</td>\n",
       "      <td>31</td>\n",
       "      <td>36</td>\n",
       "      <td>46</td>\n",
       "      <td>47</td>\n",
       "      <td>26</td>\n",
       "    </tr>\n",
       "    <tr>\n",
       "      <th>3662</th>\n",
       "      <td>649</td>\n",
       "      <td>3589</td>\n",
       "      <td>0</td>\n",
       "      <td>6/13/2018</td>\n",
       "      <td>6</td>\n",
       "      <td>22</td>\n",
       "      <td>24</td>\n",
       "      <td>31</td>\n",
       "      <td>32</td>\n",
       "      <td>34</td>\n",
       "      <td>16</td>\n",
       "    </tr>\n",
       "    <tr>\n",
       "      <th>3663</th>\n",
       "      <td>649</td>\n",
       "      <td>3590</td>\n",
       "      <td>0</td>\n",
       "      <td>6/16/2018</td>\n",
       "      <td>2</td>\n",
       "      <td>15</td>\n",
       "      <td>21</td>\n",
       "      <td>31</td>\n",
       "      <td>38</td>\n",
       "      <td>49</td>\n",
       "      <td>8</td>\n",
       "    </tr>\n",
       "    <tr>\n",
       "      <th>3664</th>\n",
       "      <td>649</td>\n",
       "      <td>3591</td>\n",
       "      <td>0</td>\n",
       "      <td>6/20/2018</td>\n",
       "      <td>14</td>\n",
       "      <td>24</td>\n",
       "      <td>31</td>\n",
       "      <td>35</td>\n",
       "      <td>37</td>\n",
       "      <td>48</td>\n",
       "      <td>17</td>\n",
       "    </tr>\n",
       "  </tbody>\n",
       "</table>\n",
       "</div>"
      ],
      "text/plain": [
       "      PRODUCT  DRAW NUMBER  SEQUENCE NUMBER  DRAW DATE  NUMBER DRAWN 1  \\\n",
       "3660      649         3587                0   6/6/2018              10   \n",
       "3661      649         3588                0   6/9/2018              19   \n",
       "3662      649         3589                0  6/13/2018               6   \n",
       "3663      649         3590                0  6/16/2018               2   \n",
       "3664      649         3591                0  6/20/2018              14   \n",
       "\n",
       "      NUMBER DRAWN 2  NUMBER DRAWN 3  NUMBER DRAWN 4  NUMBER DRAWN 5  \\\n",
       "3660              15              23              38              40   \n",
       "3661              25              31              36              46   \n",
       "3662              22              24              31              32   \n",
       "3663              15              21              31              38   \n",
       "3664              24              31              35              37   \n",
       "\n",
       "      NUMBER DRAWN 6  BONUS NUMBER  \n",
       "3660              41            35  \n",
       "3661              47            26  \n",
       "3662              34            16  \n",
       "3663              49             8  \n",
       "3664              48            17  "
      ]
     },
     "execution_count": 7,
     "metadata": {},
     "output_type": "execute_result"
    }
   ],
   "source": [
    "canada_lottery.tail()"
   ]
  },
  {
   "cell_type": "markdown",
   "metadata": {},
   "source": [
    "## Function for Historical Data Check\n",
    "\n",
    "We'll write a function that takes in the 6 numbers from the ticket as input, prints the number of times that combination occurred in the data, and prints the probability of winning the jackpot in the next drawing with those numbers.\n",
    "\n",
    "We'll begin by creating a function to extract all of the winning numbers from the dataset."
   ]
  },
  {
   "cell_type": "code",
   "execution_count": 8,
   "metadata": {},
   "outputs": [
    {
     "data": {
      "text/plain": [
       "0    {3, 41, 11, 12, 43, 14}\n",
       "1    {33, 36, 37, 39, 8, 41}\n",
       "2     {1, 6, 39, 23, 24, 27}\n",
       "3     {3, 9, 10, 43, 13, 20}\n",
       "4    {34, 5, 14, 47, 21, 31}\n",
       "dtype: object"
      ]
     },
     "execution_count": 8,
     "metadata": {},
     "output_type": "execute_result"
    }
   ],
   "source": [
    "def extract_numbers(row):\n",
    "    numbers = row[4:10]\n",
    "    numbers = set(numbers.values)\n",
    "    return numbers\n",
    "\n",
    "winning_numbers = canada_lottery.apply(extract_numbers, axis=1)\n",
    "winning_numbers.head()"
   ]
  },
  {
   "cell_type": "markdown",
   "metadata": {},
   "source": [
    "Next, we're going to write a function names `check_historical_occurrence()` that's going to take two inputs: the Python list of the users ticket numbers and a pandas series containing the sets with the winning numbers that we get from the `extract_numbers()` function.\n",
    "\n",
    "The function will return True every time there is a match between the users numbers and the winning numbers. It will also need to print the information about the probability of winning the jackpot with that number combination in an understandable way."
   ]
  },
  {
   "cell_type": "code",
   "execution_count": 9,
   "metadata": {},
   "outputs": [],
   "source": [
    "def check_historical_occurrence(user_numbers, historical_numbers):\n",
    "    user_number_set = set(user_numbers)\n",
    "    occurrence_check = historical_numbers == user_number_set\n",
    "    num_occurrences = occurrence_check.sum()\n",
    "    \n",
    "    if num_occurrences == 0:\n",
    "        print('''The combination of {} has never occurred.\n",
    "The chance of winning the jackpot in the next drawing with {} is 0.0000072%.\n",
    "In other words, you have a 1 in 13,983,816 chance of winning.'''\n",
    "             .format(user_numbers, user_numbers))\n",
    "    \n",
    "    else:\n",
    "        print('''The combination of {} has occurred {} time(s) before.\n",
    "The chance of winning the jackpot in the next drawing with {} is 0.0000072%.\n",
    "In other words, you have a 1 in 13,983,816 chance of winning'''\n",
    "             .format(user_numbers, num_occurrences, user_numbers))"
   ]
  },
  {
   "cell_type": "code",
   "execution_count": 10,
   "metadata": {},
   "outputs": [
    {
     "name": "stdout",
     "output_type": "stream",
     "text": [
      "The combination of [11, 12, 18, 24, 44, 10] has never occurred.\n",
      "The chance of winning the jackpot in the next drawing with [11, 12, 18, 24, 44, 10] is 0.0000072%.\n",
      "In other words, you have a 1 in 13,983,816 chance of winning.\n"
     ]
    }
   ],
   "source": [
    "test_input_3 = [11, 12, 18, 24, 44, 10]\n",
    "check_historical_occurrence(test_input_3, winning_numbers)"
   ]
  },
  {
   "cell_type": "code",
   "execution_count": 11,
   "metadata": {},
   "outputs": [
    {
     "name": "stdout",
     "output_type": "stream",
     "text": [
      "The combination of [14, 24, 31, 35, 37, 48] has occurred 1 time(s) before.\n",
      "The chance of winning the jackpot in the next drawing with [14, 24, 31, 35, 37, 48] is 0.0000072%.\n",
      "In other words, you have a 1 in 13,983,816 chance of winning\n"
     ]
    }
   ],
   "source": [
    "test_input_4 = [14, 24, 31, 35, 37, 48]\n",
    "check_historical_occurrence(test_input_4, winning_numbers)"
   ]
  },
  {
   "cell_type": "markdown",
   "metadata": {},
   "source": [
    "## Multi-ticket Probability\n",
    "\n",
    "Lottery addicts usually play more than one ticket for each drawing in the hopes that this will significantly increase their chances of winning. We want to help them better estimate their chances of winning, so we'll write another function called `multi_ticket_probability()` that will allow the user to calculate the chances of winning for any number of tickets.\n",
    "\n",
    "The function's input will be the number of tickets the user wants to play, given that each of those tickets contains different combinations of numbers. The maximum number of tickets that can be played will be equal to the maximum number of possible combinations. The function's output will be similar to our previous functions."
   ]
  },
  {
   "cell_type": "code",
   "execution_count": 12,
   "metadata": {},
   "outputs": [],
   "source": [
    "def multi_ticket_probability(num_tickets):\n",
    "    \n",
    "    num_combinations = combinations(49, 6)\n",
    "    \n",
    "    probability = num_tickets / num_combinations\n",
    "    probability_pct = probability * 100\n",
    "    \n",
    "    if num_tickets == 1:\n",
    "        print('''The chance of winning the jackpot with 1 ticket is {:.6f}%.\n",
    "In other words, you have a 1 in {:,} chance of winning.'''\n",
    "              .format(probability_pct, num_combinations))\n",
    "        \n",
    "    else:\n",
    "        user_combinations = round(num_combinations / num_tickets)\n",
    "        print('''The chance of winning the jackpot with {:,} tickets is {:.6f}%.\n",
    "In other words, you have a 1 in {:,} chance of winning.'''\n",
    "              .format(num_tickets, probability_pct, int(user_combinations))) # Note rounding error when num_tickets above 50% mark"
   ]
  },
  {
   "cell_type": "code",
   "execution_count": 13,
   "metadata": {},
   "outputs": [
    {
     "name": "stdout",
     "output_type": "stream",
     "text": [
      "The chance of winning the jackpot with 1 ticket is 0.000007%.\n",
      "In other words, you have a 1 in 13,983,816.0 chance of winning.\n",
      "\n",
      "\n",
      "The chance of winning the jackpot with 11 tickets is 0.000079%.\n",
      "In other words, you have a 1 in 1,271,256 chance of winning.\n",
      "\n",
      "\n",
      "The chance of winning the jackpot with 100 tickets is 0.000715%.\n",
      "In other words, you have a 1 in 139,838 chance of winning.\n",
      "\n",
      "\n",
      "The chance of winning the jackpot with 10,000 tickets is 0.071511%.\n",
      "In other words, you have a 1 in 1,398 chance of winning.\n",
      "\n",
      "\n",
      "The chance of winning the jackpot with 6,991,908 tickets is 50.000000%.\n",
      "In other words, you have a 1 in 2 chance of winning.\n",
      "\n",
      "\n",
      "The chance of winning the jackpot with 13,983,816 tickets is 100.000000%.\n",
      "In other words, you have a 1 in 1 chance of winning.\n",
      "\n",
      "\n"
     ]
    }
   ],
   "source": [
    "test_inputs = [1, 11, 100, 10000, 6991908, 13983816]\n",
    "\n",
    "for test_input in test_inputs:\n",
    "    multi_ticket_probability(test_input)\n",
    "    print('\\n')"
   ]
  },
  {
   "cell_type": "markdown",
   "metadata": {},
   "source": [
    "## Quantity of Winning Numbers\n",
    "\n",
    "The last function we are going to write will be for the user to calculate the probabilities of having two, three, four, or five winning numbers on the ticket.\n",
    "\n",
    "In most lotteries, there are smaller prizes when a ticket matches two or more of the six numbers drawn. These smaller winning can still keep those that are addicted to playing the lottery hooked, so we'll want to make sure the user understands these probabilities as well. \n",
    "\n",
    "Our function `small_prize_probability` will take two inputs: the six user ticket numbers and an integer between 2 and 5 to represent the quantity of winning numbers expected. It will need to calculate the probability of having that quantity of winning numbers exactly. The function will need to print the probability information in an understandable way just like in our previous functions. \n",
    "\n",
    "Note, there are two ways we can tackle this probability question: What is the probability of having exactly five winning numbers? What is the probability of having at least five winning numbers? For our function, we are going to be answering the first question and not the second. Keep in mine that the probability of having five winning numbers for our example would be equivalent to the number of successful outcomes divided by the total possible outcomes."
   ]
  },
  {
   "cell_type": "code",
   "execution_count": 14,
   "metadata": {},
   "outputs": [],
   "source": [
    "def small_prize_probability(qty_winning_numbers):\n",
    "    \n",
    "    num_combinations_ticket = combinations(6, qty_winning_numbers)\n",
    "    num_combinations_remaining = combinations(43, 6 - qty_winning_numbers)\n",
    "    successful_outcomes = num_combinations_ticket * num_combinations_remaining\n",
    "    \n",
    "    num_combinations_total = combinations(49, 6)\n",
    "    probability = successful_outcomes / num_combinations_total\n",
    "    probability_pct = probability * 100\n",
    "    \n",
    "    user_combinations = round(num_combinations_total / successful_outcomes)\n",
    "    \n",
    "    print('''The chance of winning a {} number match with this ticket is {:.6f}%.\n",
    "In other words, you have a 1 in {:,} chance of winning a prize.'''\n",
    "         .format(qty_winning_numbers, probability_pct, int(user_combinations)))"
   ]
  },
  {
   "cell_type": "code",
   "execution_count": 15,
   "metadata": {},
   "outputs": [
    {
     "name": "stdout",
     "output_type": "stream",
     "text": [
      "The chance of winning a 2 number match with this ticket is 13.237803%.\n",
      "In other words, you have a 1 in 8 chance of winning a prize.\n",
      "\n",
      "\n",
      "The chance of winning a 3 number match with this ticket is 1.765040%.\n",
      "In other words, you have a 1 in 57 chance of winning a prize.\n",
      "\n",
      "\n",
      "The chance of winning a 4 number match with this ticket is 0.096862%.\n",
      "In other words, you have a 1 in 1,032 chance of winning a prize.\n",
      "\n",
      "\n",
      "The chance of winning a 5 number match with this ticket is 0.001845%.\n",
      "In other words, you have a 1 in 54,201 chance of winning a prize.\n",
      "\n",
      "\n"
     ]
    }
   ],
   "source": [
    "# Testing all possible inputs\n",
    "for test_input in [2, 3, 4, 5]:\n",
    "    small_prize_probability(test_input)\n",
    "    print('\\n')"
   ]
  },
  {
   "cell_type": "markdown",
   "metadata": {},
   "source": [
    "## Conclusion & Next Steps\n",
    "\n",
    "In this project we coded four main functions for our app:\n",
    "\n",
    "* one_ticket_probability() to calculate the probability of winning the jackpot with a single ticket\n",
    "* check_historical_occurrence() to checks if a certain combination has occurred before in the dataset\n",
    "* multi_ticket_probability() to calculate the probability for having any number of tickets for a drawing\n",
    "* small_prize_probability() to calculate the probability of having a two, three, four or five winning number match\n",
    "\n",
    "If we wanted to continue building more features into our app, some next steps could be:\n",
    "\n",
    "* Make the outputs even easier for the user to understand by adding memorable analogies of strange events that occur in life at similar probabilities.\n",
    "* Combine the `one_ticket_probability()` and `check_historical_occurrence()` functions to output probability and historical occurrence information at the same time.\n",
    "* Create another function similar to `small_prize_probability()`, but one that calculates the probability of having at least two, three, four, or five winning numbers instead of the quantity entered exactly.\n",
    "\n",
    "The idea for this project comes from the [DATAQUEST](https://app.dataquest.io/) **Probability: Fundamentals** course."
   ]
  }
 ],
 "metadata": {
  "kernelspec": {
   "display_name": "Python 3",
   "language": "python",
   "name": "python3"
  },
  "language_info": {
   "codemirror_mode": {
    "name": "ipython",
    "version": 3
   },
   "file_extension": ".py",
   "mimetype": "text/x-python",
   "name": "python",
   "nbconvert_exporter": "python",
   "pygments_lexer": "ipython3",
   "version": "3.7.9"
  }
 },
 "nbformat": 4,
 "nbformat_minor": 4
}

{
 "cells": [
  {
   "cell_type": "markdown",
   "metadata": {},
   "source": [
    "# Analyzing Stock Prices\n",
    "\n",
    "In this project, we'll look at more than 10 years of stock market data from Yahoo Finance for a few hundred different stocks that are traded on the NASDAQ stock exchange.\n",
    "\n",
    "## Introduction to the Data\n",
    "\n",
    "Some of the data we'll be working with can be found in this repository under the `prices` folder. The `download_data.py` script can be used to download all of the stock price data. Each file is named for each specific stock symbol, and the data within contains the following:\n",
    "\n",
    "* date – when the data is from\n",
    "* close – closing price on the date\n",
    "* open – opening price on the date\n",
    "* high – highest price reached on the date\n",
    "* low – lowest price reached on the date\n",
    "* volume – number of shares traded on the date\n",
    "\n",
    "We'll import the data and take a look at what the first few rows of the files look like."
   ]
  },
  {
   "cell_type": "code",
   "execution_count": 1,
   "metadata": {},
   "outputs": [
    {
     "data": {
      "text/html": [
       "<div>\n",
       "<style scoped>\n",
       "    .dataframe tbody tr th:only-of-type {\n",
       "        vertical-align: middle;\n",
       "    }\n",
       "\n",
       "    .dataframe tbody tr th {\n",
       "        vertical-align: top;\n",
       "    }\n",
       "\n",
       "    .dataframe thead th {\n",
       "        text-align: right;\n",
       "    }\n",
       "</style>\n",
       "<table border=\"1\" class=\"dataframe\">\n",
       "  <thead>\n",
       "    <tr style=\"text-align: right;\">\n",
       "      <th></th>\n",
       "      <th>date</th>\n",
       "      <th>close</th>\n",
       "      <th>open</th>\n",
       "      <th>high</th>\n",
       "      <th>low</th>\n",
       "      <th>volume</th>\n",
       "    </tr>\n",
       "  </thead>\n",
       "  <tbody>\n",
       "    <tr>\n",
       "      <th>0</th>\n",
       "      <td>2007-01-03</td>\n",
       "      <td>13.689997</td>\n",
       "      <td>14.100001</td>\n",
       "      <td>14.100001</td>\n",
       "      <td>13.400004</td>\n",
       "      <td>264400</td>\n",
       "    </tr>\n",
       "    <tr>\n",
       "      <th>1</th>\n",
       "      <td>2007-01-04</td>\n",
       "      <td>13.460005</td>\n",
       "      <td>13.689997</td>\n",
       "      <td>13.689997</td>\n",
       "      <td>13.400004</td>\n",
       "      <td>122700</td>\n",
       "    </tr>\n",
       "    <tr>\n",
       "      <th>2</th>\n",
       "      <td>2007-01-05</td>\n",
       "      <td>13.170001</td>\n",
       "      <td>13.389996</td>\n",
       "      <td>13.940004</td>\n",
       "      <td>13.130005</td>\n",
       "      <td>86500</td>\n",
       "    </tr>\n",
       "    <tr>\n",
       "      <th>3</th>\n",
       "      <td>2007-01-08</td>\n",
       "      <td>12.720001</td>\n",
       "      <td>12.999997</td>\n",
       "      <td>13.089996</td>\n",
       "      <td>12.699997</td>\n",
       "      <td>109500</td>\n",
       "    </tr>\n",
       "    <tr>\n",
       "      <th>4</th>\n",
       "      <td>2007-01-09</td>\n",
       "      <td>12.759997</td>\n",
       "      <td>12.699997</td>\n",
       "      <td>12.900001</td>\n",
       "      <td>12.549997</td>\n",
       "      <td>48600</td>\n",
       "    </tr>\n",
       "  </tbody>\n",
       "</table>\n",
       "</div>"
      ],
      "text/plain": [
       "         date      close       open       high        low  volume\n",
       "0  2007-01-03  13.689997  14.100001  14.100001  13.400004  264400\n",
       "1  2007-01-04  13.460005  13.689997  13.689997  13.400004  122700\n",
       "2  2007-01-05  13.170001  13.389996  13.940004  13.130005   86500\n",
       "3  2007-01-08  12.720001  12.999997  13.089996  12.699997  109500\n",
       "4  2007-01-09  12.759997  12.699997  12.900001  12.549997   48600"
      ]
     },
     "execution_count": 1,
     "metadata": {},
     "output_type": "execute_result"
    }
   ],
   "source": [
    "import pandas as pd\n",
    "import os\n",
    "\n",
    "stock_prices = {}\n",
    "\n",
    "for file_name in os.listdir('prices'):\n",
    "    name = file_name.split('.')[0] # Removing the file extension from the name\n",
    "    stock_prices[name] = pd.read_csv(os.path.join('prices', file_name))\n",
    "    \n",
    "stock_prices['fizz'].head()"
   ]
  },
  {
   "cell_type": "markdown",
   "metadata": {},
   "source": [
    "## Average Closing Price"
   ]
  },
  {
   "cell_type": "code",
   "execution_count": 2,
   "metadata": {},
   "outputs": [],
   "source": [
    "average_closing = {}\n",
    "\n",
    "for stock in stock_prices:\n",
    "    average_closing[stock] = stock_prices[stock]['close'].mean()"
   ]
  },
  {
   "cell_type": "markdown",
   "metadata": {},
   "source": [
    "## Most Traded Stock for Each Day"
   ]
  },
  {
   "cell_type": "code",
   "execution_count": 3,
   "metadata": {},
   "outputs": [],
   "source": [
    "trades_each_day = {}\n",
    "\n",
    "for stock in stock_prices:\n",
    "    for index, row in stock_prices[stock].iterrows():\n",
    "        day = row['date']\n",
    "        volume = row['volume']\n",
    "        pair = (volume, stock)\n",
    "        if day not in trades_each_day:\n",
    "            trades_each_day[day] = []\n",
    "        trades_each_day[day].append(pair)\n",
    "        \n",
    "most_traded = {}\n",
    "\n",
    "for day in trades_each_day:\n",
    "    trades_each_day[day].sort()\n",
    "    most_traded[day] = trades_each_day[day][-1]"
   ]
  },
  {
   "cell_type": "code",
   "execution_count": 15,
   "metadata": {},
   "outputs": [
    {
     "name": "stdout",
     "output_type": "stream",
     "text": [
      "(158239900, 'aapl')\n",
      "(221315500, 'aapl')\n",
      "(232913100, 'aapl')\n"
     ]
    }
   ],
   "source": [
    "print(most_traded['2007-05-25'])\n",
    "print(most_traded['2007-06-01'])\n",
    "print(most_traded['2009-06-08'])"
   ]
  },
  {
   "cell_type": "markdown",
   "metadata": {},
   "source": [
    "## Searching for High Volume Trading Days"
   ]
  },
  {
   "cell_type": "code",
   "execution_count": null,
   "metadata": {},
   "outputs": [],
   "source": []
  },
  {
   "cell_type": "code",
   "execution_count": null,
   "metadata": {},
   "outputs": [],
   "source": []
  },
  {
   "cell_type": "code",
   "execution_count": null,
   "metadata": {},
   "outputs": [],
   "source": []
  },
  {
   "cell_type": "markdown",
   "metadata": {},
   "source": [
    "## Conclusion & Next Steps\n",
    "\n",
    "In this project we analyzed stock prices.\n",
    "\n",
    "The idea for this project comes from the [DATAQUEST](https://app.dataquest.io/) **Algorithms and Data Structures** course."
   ]
  }
 ],
 "metadata": {
  "kernelspec": {
   "display_name": "Python 3",
   "language": "python",
   "name": "python3"
  },
  "language_info": {
   "codemirror_mode": {
    "name": "ipython",
    "version": 3
   },
   "file_extension": ".py",
   "mimetype": "text/x-python",
   "name": "python",
   "nbconvert_exporter": "python",
   "pygments_lexer": "ipython3",
   "version": "3.7.9"
  }
 },
 "nbformat": 4,
 "nbformat_minor": 4
}

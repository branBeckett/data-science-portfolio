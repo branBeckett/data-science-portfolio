{
 "cells": [
  {
   "cell_type": "markdown",
   "metadata": {},
   "source": [
    "# Analyzing Stock Prices\n",
    "\n",
    "In this project, we'll look at more than 10 years of stock market data from Yahoo Finance for a few hundred different stocks that are traded on the NASDAQ stock exchange.\n",
    "\n",
    "## Introduction to the Data\n",
    "\n",
    "Some of the data we'll be working with can be found in this repository under the `prices` folder. The `download_data.py` script can be used to download all of the stock price data. Each file is named for each specific stock symbol, and the data within contains the following:\n",
    "\n",
    "* date – when the data is from\n",
    "* close – closing price on the date\n",
    "* open – opening price on the date\n",
    "* high – highest price reached on the date\n",
    "* low – lowest price reached on the date\n",
    "* volume – number of shares traded on the date\n",
    "\n",
    "Here is an example of what the first few rows of the files look like:"
   ]
  },
  {
   "cell_type": "markdown",
   "metadata": {},
   "source": []
  }
 ],
 "metadata": {
  "kernelspec": {
   "display_name": "Python 3",
   "language": "python",
   "name": "python3"
  },
  "language_info": {
   "codemirror_mode": {
    "name": "ipython",
    "version": 3
   },
   "file_extension": ".py",
   "mimetype": "text/x-python",
   "name": "python",
   "nbconvert_exporter": "python",
   "pygments_lexer": "ipython3",
   "version": "3.7.9"
  }
 },
 "nbformat": 4,
 "nbformat_minor": 4
}
